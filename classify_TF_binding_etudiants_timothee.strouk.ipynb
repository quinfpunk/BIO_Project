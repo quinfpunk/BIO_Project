{
 "cells": [
  {
   "cell_type": "markdown",
   "metadata": {},
   "source": [
    "Timothée Strouk"
   ]
  },
  {
   "cell_type": "markdown",
   "metadata": {
    "id": "BpI9eESpkREM"
   },
   "source": [
    "# Ex1: Onehot coding DNA\n",
    "\n",
    "Write a function called **onehot_dna(dna_str)** that allows to encode a DNA segment where each base is encoded as a vector of all zeros except one in a specific position. The result of this function is an array numpy.  DNA is a long chain of repeating bases strung together. There are 4 bases: A, C, G, T. For example, \"AACCCAAATCGGGGG\" is a DNA segment.\n",
    "\n",
    "\n",
    "\n",
    "For example, **onehot_dna('AAT')** should return\n",
    "\n",
    "array([[1, 0, 0, 0],\n",
    "       [1, 0, 0, 0],\n",
    "       [0, 0, 0, 1]])\n",
    "\n",
    "\n",
    "\n",
    "\n"
   ]
  },
  {
   "cell_type": "code",
   "execution_count": 26,
   "metadata": {
    "id": "yuVAcKju5lGr"
   },
   "outputs": [],
   "source": [
    "import numpy as np\n",
    "import joblib\n",
    "import matplotlib.pyplot as plt\n",
    "import torch\n",
    "from torch.utils.data import DataLoader\n",
    "from torch.nn import Conv1d"
   ]
  },
  {
   "cell_type": "code",
   "execution_count": 2,
   "metadata": {
    "id": "YbhaCZP1moii"
   },
   "outputs": [],
   "source": [
    "def onehot_dna(dna_str):\n",
    "  encoded = []\n",
    "  DNA = ['A', 'C', 'G', 'T']\n",
    "  for i in range(len(dna_str)):\n",
    "    encoded.append([0, 0, 0, 0])\n",
    "    encoded[i][DNA.index(dna_str[i])] = 1\n",
    "  return np.array(encoded)"
   ]
  },
  {
   "cell_type": "code",
   "execution_count": 3,
   "metadata": {
    "colab": {
     "base_uri": "https://localhost:8080/"
    },
    "executionInfo": {
     "elapsed": 24,
     "status": "ok",
     "timestamp": 1692736177490,
     "user": {
      "displayName": "Florent Jakubowski",
      "userId": "16460074933049396717"
     },
     "user_tz": -120
    },
    "id": "WM-BaQiGo82A",
    "outputId": "74166e2c-36d9-4382-92d6-c5888c281a88"
   },
   "outputs": [
    {
     "data": {
      "text/plain": [
       "array([[1, 0, 0, 0],\n",
       "       [1, 0, 0, 0],\n",
       "       [0, 0, 0, 1]])"
      ]
     },
     "execution_count": 3,
     "metadata": {},
     "output_type": "execute_result"
    }
   ],
   "source": [
    "onehot_dna('AAT')"
   ]
  },
  {
   "cell_type": "markdown",
   "metadata": {
    "id": "AkSQo19z60n1"
   },
   "source": [
    "# Deep learning to classify Transcription Factor Biding\n",
    "\n",
    "\n",
    "In the next exercises, we will learn how to use Deep learning to predict whether a segment of DNA does include or does not include a sit where JUND binds. (JUND is a particular transcription factor).\n",
    "\n",
    "In this purpose, we will use data that is extracted from the chapter 6 of the book: 'Deep learning for the life science'. This book is written by B.Ramsundar, P.Eastman, P. Walters and V.Pande.\n",
    "\n",
    "\n",
    "Data consist of DNA segments that have been split up from a full chromosome. Each segment is of 101 bases long and has been labeled to indicate whether it does or does not include a site where JUND binds to.\n",
    "\n",
    "\n",
    "This is a binary classification problem.\n",
    "The process of creating a PyTorch neural network binary classifier consists of several steps:\n",
    "\n",
    "1. Prepare the training and test data\n",
    "\n",
    "2. Implement a Dataset object to serve up the data\n",
    "\n",
    "3. Design and implement a neural network\n",
    "\n",
    "4. Write code to train the network\n",
    "\n",
    "5. Write code to evaluate the model (the trained network)\n"
   ]
  },
  {
   "cell_type": "markdown",
   "metadata": {
    "id": "XS8a5oOmOjqO"
   },
   "source": [
    "# Ex 2:  Load Data\n",
    "\n",
    "1. With the help of the joblib library, load the following files for training set:  **y_train.joblib**, **X_train.joblib**  and then store the results in variables **y_train, X_train** ,respectively.\n",
    "\n",
    "2. Do the same thing for the test set: load  **y_test.joblib**, **X_test.joblib**  and then store the results in variables **y_test, X_test**, respectively.\n",
    "\n",
    "3. What are the shape of **X_train** and **y_train** ? How many DNA segments are there in traning set ?\n",
    "\n",
    "4. Display a DNA segment from **X_train** (using matplotlib.pyplot.imshow ).\n",
    "\n",
    "5. Plot the histogram of **y_train** to see whether data is imbalanced or not.\n"
   ]
  },
  {
   "cell_type": "code",
   "execution_count": 10,
   "metadata": {
    "id": "NB5Y5StQezcZ"
   },
   "outputs": [],
   "source": [
    "X_train = joblib.load('data/X_train.joblib')\n",
    "y_train = joblib.load('data/y_train.joblib')"
   ]
  },
  {
   "cell_type": "code",
   "execution_count": 11,
   "metadata": {
    "id": "Ry41n_BL8-jF"
   },
   "outputs": [],
   "source": [
    "X_test = joblib.load('data/X_test.joblib')\n",
    "y_test = joblib.load('data/y_test.joblib')"
   ]
  },
  {
   "cell_type": "code",
   "execution_count": 13,
   "metadata": {
    "id": "FMLs0OOTV4E5"
   },
   "outputs": [
    {
     "name": "stdout",
     "output_type": "stream",
     "text": [
      "Shape of X_train is: (4672, 101, 4)\n",
      "Shape of y_train is: (4672, 1)\n",
      "4672 DNA segments presents X_train\n"
     ]
    }
   ],
   "source": [
    "print(f\"Shape of X_train is: {X_train.shape}\")\n",
    "print(f\"Shape of y_train is: {y_train.shape}\")\n",
    "print(f\"{len(X_train)} DNA segments presents X_train\")"
   ]
  },
  {
   "cell_type": "code",
   "execution_count": 14,
   "metadata": {
    "id": "TceRZcS3MENp"
   },
   "outputs": [
    {
     "data": {
      "text/plain": [
       "<matplotlib.image.AxesImage at 0x7f43e4fc6550>"
      ]
     },
     "execution_count": 14,
     "metadata": {},
     "output_type": "execute_result"
    },
    {
     "data": {
      "image/png": "[encoded data removed]",
      "text/plain": [
       "<Figure size 640x480 with 1 Axes>"
      ]
     },
     "metadata": {},
     "output_type": "display_data"
    }
   ],
   "source": [
    "plt.imshow(X_train[0].T, cmap='gray')"
   ]
  },
  {
   "cell_type": "code",
   "execution_count": 15,
   "metadata": {
    "id": "xVwu_64FUcWU"
   },
   "outputs": [
    {
     "data": {
      "image/png": "[encoded data removed]",
      "text/plain": [
       "<Figure size 640x480 with 1 Axes>"
      ]
     },
     "metadata": {},
     "output_type": "display_data"
    }
   ],
   "source": [
    "plt.hist(y_train)\n",
    "plt.show()"
   ]
  },
  {
   "cell_type": "markdown",
   "metadata": {
    "id": "EajNPJrnAmde"
   },
   "source": [
    "# Ex 3: Convert numpy array to tensor pytorch\n",
    "\n",
    "As you see in the previous exercise, **X_train** consists of 4672 segments. Each segment is encoded by 0 and 1 (one-hot encoding).\n",
    "\n",
    "\n",
    "1. Convert numpy array **X_train**, **y_train** into pytorch tensor. Reshape **X_train** to (4672, 4, 101). Note that the type of **X_train** and **y_train** should be float.\n",
    "\n",
    "2. Do the same thing for **X_test** and **y_test**\n"
   ]
  },
  {
   "cell_type": "code",
   "execution_count": 16,
   "metadata": {
    "id": "E8eedW_yPUKu"
   },
   "outputs": [],
   "source": [
    "X_train = torch.from_numpy(X_train.transpose(0, 2, 1)).float()\n",
    "y_train = torch.from_numpy(y_train).float()"
   ]
  },
  {
   "cell_type": "code",
   "execution_count": 17,
   "metadata": {
    "id": "Wn_0dOuVHWhs"
   },
   "outputs": [],
   "source": [
    "X_test = torch.from_numpy(X_test.transpose(0, 2, 1)).float()\n",
    "y_test = torch.from_numpy(y_test).float()"
   ]
  },
  {
   "cell_type": "markdown",
   "metadata": {
    "id": "mEYJBjBdg547"
   },
   "source": [
    "# Ex4: Create Dataset\n",
    "In order to train a deep learning model with Pytorch, we need a pytorch dataset.\n",
    "The DNADataset class below allows for creating a pytorch Dataset from DNA segments and their labels.\n",
    "\n",
    "1. Using this class, create a dataset for training set. You should call it **train_dataset**\n",
    "\n",
    "2. Create **Dataloader** from **train_dataset**. You should call it **train_loader**.\n",
    "\n",
    "3. Do the same thing for the test set."
   ]
  },
  {
   "cell_type": "code",
   "execution_count": 19,
   "metadata": {
    "id": "GkvyOQVggLz_"
   },
   "outputs": [],
   "source": [
    "class DNADataset(torch.utils.data.Dataset):\n",
    "    def __init__(self, dna, labels):\n",
    "        self.labels = labels\n",
    "        self.dna = dna\n",
    "\n",
    "\n",
    "    def __len__(self):\n",
    "        return len(self.labels)\n",
    "\n",
    "\n",
    "    def __getitem__(self, idx):\n",
    "        label = self.labels[idx]\n",
    "        frag_dna = self.dna[idx]\n",
    "\n",
    "        sample = {'DNA': frag_dna, 'Class': label}\n",
    "\n",
    "        return sample"
   ]
  },
  {
   "cell_type": "code",
   "execution_count": 22,
   "metadata": {
    "id": "ZIUVVN_Qg8d1"
   },
   "outputs": [],
   "source": [
    "train_dataset = DNADataset(X_train, y_train)"
   ]
  },
  {
   "cell_type": "code",
   "execution_count": 24,
   "metadata": {
    "id": "_YQG76jIocW4"
   },
   "outputs": [],
   "source": [
    "train_loader = DataLoader(train_dataset, batch_size=32, shuffle=True)"
   ]
  },
  {
   "cell_type": "code",
   "execution_count": 25,
   "metadata": {
    "id": "kj3HNTW2HRer"
   },
   "outputs": [],
   "source": [
    "test_dataset = DNADataset(X_test, y_test)\n",
    "test_loader = DataLoader(test_dataset, batch_size=32, shuffle=True)"
   ]
  },
  {
   "cell_type": "markdown",
   "metadata": {
    "id": "VDcbP17Rb2xt"
   },
   "source": [
    "# Design and implement a convolutional neural network\n",
    "\n",
    "Now, it's time to build your model. This is a binary classification problem. We can use a convolution neural network, just like an image classification problem. However, since the size of a DNA segment is (4, 101), we will use 1D convolution instead of 2D convolution.\n",
    "\n",
    "\n",
    "\n",
    "Firstly, we will test how does a 1D convolution work on our data.\n",
    "\n"
   ]
  },
  {
   "cell_type": "markdown",
   "metadata": {
    "id": "xlPP4E3UfRYe"
   },
   "source": [
    "# EX 5: 1D Convolution\n",
    "\n",
    "1. With the help of the torch.nn.Conv1d class, create a 1D convolutional layer. You need to choose values for the following parameters: **in_channels**, **out_channels**, **kernel_size**.\n",
    "\n",
    "\n",
    "2. Apply this layer to **dna_seg** below. What is the size of the output ?\n",
    "\n",
    "\n",
    "3. [Optional] Display the output by using matplotlib.pyplot.imshow\n",
    "\n",
    "\n"
   ]
  },
  {
   "cell_type": "code",
   "execution_count": 27,
   "metadata": {
    "id": "C9y0yRXhhj1F"
   },
   "outputs": [],
   "source": [
    "conv1d_instance = Conv1d(in_channels=4, out_channels=32, kernel_size=12)"
   ]
  },
  {
   "cell_type": "code",
   "execution_count": 28,
   "metadata": {
    "id": "FJ9uE489imxl"
   },
   "outputs": [],
   "source": [
    "output = conv1d_instance(X_train[:1])"
   ]
  },
  {
   "cell_type": "code",
   "execution_count": 29,
   "metadata": {
    "id": "UWvh59eVZfCf"
   },
   "outputs": [
    {
     "data": {
      "text/plain": [
       "<matplotlib.image.AxesImage at 0x7f43e2e7e450>"
      ]
     },
     "execution_count": 29,
     "metadata": {},
     "output_type": "execute_result"
    },
    {
     "data": {
      "image/png": "[encoded data removed]",
      "text/plain": [
       "<Figure size 640x480 with 1 Axes>"
      ]
     },
     "metadata": {},
     "output_type": "display_data"
    }
   ],
   "source": [
    "plt.imshow(output.detach().numpy()[0], cmap='gray')"
   ]
  },
  {
   "cell_type": "markdown",
   "metadata": {
    "id": "H26rAy0wkbca"
   },
   "source": [
    "# EX 6: Build a model\n",
    "\n",
    "The following code is used to build a CNN model for a classification problem. This model consists of :\n",
    "\n",
    "1. 3 layers of  1D-convolution. Each convolutional layer is followed by an activiation ReLu.\n",
    "\n",
    "2. 2 Linear layers\n",
    "\n",
    "\n",
    "Complete the lines # TODO below to finish the definition of this network."
   ]
  },
  {
   "cell_type": "code",
   "execution_count": 31,
   "metadata": {
    "id": "L_bs8O3lhB7m"
   },
   "outputs": [],
   "source": [
    "import torch.nn as nn\n",
    "import torch.nn.functional as F\n",
    "\n",
    "class DeepDNA(nn.Module):\n",
    "\n",
    "  def __init__(self, sequence_length, num_class):\n",
    "    \"\"\"\n",
    "    Parameters\n",
    "    -----------\n",
    "    sequence_length: int\n",
    "    num_class: int\n",
    "\n",
    "    \"\"\"\n",
    "    super(DeepDNA,self).__init__()\n",
    "\n",
    "    self.sequence_length = sequence_length\n",
    "    self.num_class = num_class\n",
    "\n",
    "    self.conv1 = nn.Conv1d(in_channels=4, out_channels=16, kernel_size=3, stride=1, padding=1)\n",
    "    self.conv2 = nn.Conv1d(in_channels=16, out_channels=32, kernel_size=3, stride=1, padding=1)\n",
    "    self.conv3 = nn.Conv1d(in_channels=32, out_channels=64, kernel_size=3, stride=1, padding=1)\n",
    "\n",
    "    self.lin1 = nn.Linear(self.sequence_length*64, 32)\n",
    "    self.lin2 = nn.Linear(32, self.num_class)\n",
    "\n",
    "\n",
    "  def forward(self, x):\n",
    "\n",
    "    # 1/ pass the first convolutional layer\n",
    "    #### TODO #####\n",
    "    x = self.conv1(x)\n",
    "    x = F.relu(x)\n",
    "\n",
    "    # 2/ Pas the second convolutional layer\n",
    "    #### TODO #####\n",
    "    x = self.conv2(x)\n",
    "    x = F.relu(x)\n",
    "\n",
    "    # 3/ Pass the third convolution layer\n",
    "    #### TODO #####\n",
    "    x = self.conv3(x)\n",
    "    x = F.relu(x)\n",
    "\n",
    "    x = x.view(x.size(0), self.sequence_length*64)\n",
    "\n",
    "    #### TODO #####\n",
    "    x = self.lin1(x)\n",
    "    x = F.relu(x)\n",
    "    x = self.lin2(x)\n",
    "\n",
    "    x = nn.Sigmoid()(x)\n",
    "\n",
    "    return x\n"
   ]
  },
  {
   "cell_type": "markdown",
   "metadata": {
    "id": "HVbFqM4laclu"
   },
   "source": [
    "# Ex 7 Test the model\n",
    "\n",
    "\n",
    "1. Create an instance of the DeepDNA class named **net**.\n",
    "\n",
    "2. Print out the variable **net** to see detailed information about the model.\n",
    "\n",
    "3. Pass **dna_seg** below to **net** in order to  test if your model **net** works well.\n",
    "\n",
    "4. What is the size of the output ?\n",
    "\n"
   ]
  },
  {
   "cell_type": "code",
   "execution_count": 32,
   "metadata": {
    "id": "ladQCir7btvX"
   },
   "outputs": [],
   "source": [
    "net = DeepDNA(101, 1)"
   ]
  },
  {
   "cell_type": "code",
   "execution_count": 33,
   "metadata": {
    "id": "RFzp7DbtlTwG"
   },
   "outputs": [
    {
     "name": "stdout",
     "output_type": "stream",
     "text": [
      "DeepDNA(\n",
      "  (conv1): Conv1d(4, 16, kernel_size=(3,), stride=(1,), padding=(1,))\n",
      "  (conv2): Conv1d(16, 32, kernel_size=(3,), stride=(1,), padding=(1,))\n",
      "  (conv3): Conv1d(32, 64, kernel_size=(3,), stride=(1,), padding=(1,))\n",
      "  (lin1): Linear(in_features=6464, out_features=32, bias=True)\n",
      "  (lin2): Linear(in_features=32, out_features=1, bias=True)\n",
      ")\n"
     ]
    }
   ],
   "source": [
    "print(net)"
   ]
  },
  {
   "cell_type": "code",
   "execution_count": 34,
   "metadata": {
    "id": "scFin6qzqBXd"
   },
   "outputs": [],
   "source": [
    "output = net(X_train[:2, :, :])"
   ]
  },
  {
   "cell_type": "code",
   "execution_count": 35,
   "metadata": {
    "id": "mpPkX7HLqCc-"
   },
   "outputs": [
    {
     "name": "stdout",
     "output_type": "stream",
     "text": [
      "The shape of the output is torch.Size([2, 1])\n"
     ]
    }
   ],
   "source": [
    "print(f\"The shape of the output is {output.shape}\")"
   ]
  },
  {
   "cell_type": "markdown",
   "metadata": {
    "id": "yypmG11hr_so"
   },
   "source": [
    "# Ex 8: Define loss function and optimizer\n",
    "\n",
    "\n",
    "1. Define an SGD optimizer for the model. You need to choose the learning rate for your model.\n",
    "\n",
    "2. Define a Binary Cross Entropy (BCE) Loss  function.\n"
   ]
  },
  {
   "cell_type": "code",
   "execution_count": 36,
   "metadata": {
    "id": "uZwQKSrxh1A_"
   },
   "outputs": [],
   "source": [
    "optimizer = torch.optim.SGD(net.parameters(), lr=0.01)"
   ]
  },
  {
   "cell_type": "code",
   "execution_count": 51,
   "metadata": {
    "id": "uZwQKSrxh1A_"
   },
   "outputs": [],
   "source": [
    "criterion = nn.BCELoss()"
   ]
  },
  {
   "cell_type": "markdown",
   "metadata": {
    "id": "7rEjVjhetI6A"
   },
   "source": [
    "# Ex 9: Training your model\n",
    "\n",
    "The following function allows to train the model for one epoch. This function returns total loss per epoch.\n",
    "Implement the training pass for this function.\n",
    "\n",
    "\n",
    "\n",
    "The general process with PyTorch for one learning step consits of several steps:\n",
    "\n",
    "1. Make a forward pass through the network\n",
    "2. Use the network output to calculate the loss\n",
    "3. Perform a backward pass through the network with loss.backward() to calculate the gradients\n",
    "4. Take a step with the optimizer to update the weights\n",
    "\n"
   ]
  },
  {
   "cell_type": "code",
   "execution_count": 52,
   "metadata": {
    "id": "oAil9eU9iNCf"
   },
   "outputs": [],
   "source": [
    "def train():\n",
    "    net.train()\n",
    "    train_loss = 0\n",
    "    for batch_idx, sample in enumerate(train_loader):\n",
    "        optimizer.zero_grad()\n",
    "        output = net(sample['DNA'])\n",
    "        loss = criterion(output, sample['Class'])\n",
    "        loss.backward()\n",
    "        optimizer.step()\n",
    "        train_loss += loss.item()\n"
   ]
  },
  {
   "cell_type": "markdown",
   "metadata": {
    "id": "Pz0VV2Oenftq"
   },
   "source": [
    "# Ex 11: Accuracy Calculation\n",
    "\n",
    "Write a function named **compute_num_correct_pred(y_prob, y_label)** that allows to compute the number of correct predictions. **y_prob** and **y_label** should be pytorch tensors.\n",
    "\n",
    "For example,\n",
    "y_prob = [[0.3],[0.4], [0.8], [0.7]].\n",
    "\n",
    "y = [[0], [1], [1], [0]].\n",
    "\n",
    "This function should return 2."
   ]
  },
  {
   "cell_type": "code",
   "execution_count": 53,
   "metadata": {
    "id": "JZ3cRawWpFe7"
   },
   "outputs": [],
   "source": [
    "### TODO ####\n",
    "def compute_num_correct_pred(y_prob, y_label):\n",
    "    \"\"\"\n",
    "    Parameters\n",
    "    ----------\n",
    "    y_prob: torch.Tensor\n",
    "    y_label: torch.Tensor\n",
    "\n",
    "    Returns\n",
    "    -------\n",
    "    int\n",
    "        number of correct predictions\n",
    "    \"\"\"\n",
    "    y_pred = torch.round(y_prob)\n",
    "    return torch.sum(y_pred == y_label).item()\n",
    "\n"
   ]
  },
  {
   "cell_type": "markdown",
   "metadata": {
    "id": "3N_g4DA-vex8"
   },
   "source": [
    "\n",
    "The function below allows to calculate the accuracy of the model on dataset loader. Execute this function to see if you implemented the compute_num_correct_pred function correctly."
   ]
  },
  {
   "cell_type": "code",
   "execution_count": 54,
   "metadata": {
    "id": "FY9V2-NCvv25"
   },
   "outputs": [],
   "source": [
    "def test(loader):\n",
    "  net.eval()\n",
    "\n",
    "  correct = 0\n",
    "  with torch.no_grad():\n",
    "    for data in loader:\n",
    "      dna = data['DNA']\n",
    "      y = data['Class']\n",
    "\n",
    "      out = net(dna)\n",
    "      correct += compute_num_correct_pred(out, y)\n",
    "\n",
    "  return correct / len(loader.dataset)"
   ]
  },
  {
   "cell_type": "markdown",
   "metadata": {
    "id": "I0vTKeeQ3wGb"
   },
   "source": [
    "# Ex 12: Training the model\n",
    "\n",
    "Write code to train your model on 10 epoches to see if everything is going well and then you can try to add more epoches.\n"
   ]
  },
  {
   "cell_type": "code",
   "execution_count": 55,
   "metadata": {
    "id": "K-vkWpKLixGE"
   },
   "outputs": [
    {
     "name": "stdout",
     "output_type": "stream",
     "text": [
      "The accuracy on the test set is 0.7448630136986302\n"
     ]
    }
   ],
   "source": [
    "for _ in range(100):\n",
    "    train()\n",
    "\n",
    "print(f\"The accuracy on the test set is {test(test_loader)}\")"
   ]
  },
  {
   "cell_type": "markdown",
   "metadata": {
    "id": "WX_FGbp4tV0Z"
   },
   "source": [
    "# Ex13 (optional)\n",
    "\n",
    "1. If we use torch.nn.BCEWithLogitsLoss(), what does we need to change to the definition of the model ?\n",
    "\n",
    "\n",
    "2. The same question for torch.nn.CrossEntropyLoss() loss.  "
   ]
  },
  {
   "cell_type": "code",
   "execution_count": null,
   "metadata": {
    "id": "0l-GFUSOmOIr"
   },
   "outputs": [],
   "source": []
  }
 ],
 "metadata": {
  "colab": {
   "provenance": []
  },
  "kernelspec": {
   "display_name": "Python 3 (ipykernel)",
   "language": "python",
   "name": "python3"
  },
  "language_info": {
   "codemirror_mode": {
    "name": "ipython",
    "version": 3
   },
   "file_extension": ".py",
   "mimetype": "text/x-python",
   "name": "python",
   "nbconvert_exporter": "python",
   "pygments_lexer": "ipython3",
   "version": "3.11.5"
  }
 },
 "nbformat": 4,
 "nbformat_minor": 4
}
