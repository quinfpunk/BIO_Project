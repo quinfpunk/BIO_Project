{
  "nbformat": 4,
  "nbformat_minor": 0,
  "metadata": {
    "colab": {
      "provenance": []
    },
    "kernelspec": {
      "name": "python3",
      "display_name": "Python 3"
    },
    "language_info": {
      "name": "python"
    }
  },
  "cells": [
    {
      "cell_type": "markdown",
      "source": [
        "Timothée Strouk"
      ],
      "metadata": {
        "id": "X0DMu8BQeVDv"
      }
    },
    {
      "cell_type": "code",
      "metadata": {
        "id": "9qJCFDsxp3wJ",
        "colab": {
          "base_uri": "https://localhost:8080/"
        },
        "outputId": "a3757bdd-2328-4940-a3d2-4d3b62384838"
      },
      "source": [
        "# Install rdkit\n",
        "!pip install rdkit-pypi"
      ],
      "execution_count": 2,
      "outputs": [
        {
          "output_type": "stream",
          "name": "stdout",
          "text": [
            "Collecting rdkit-pypi\n",
            "  Downloading rdkit_pypi-2022.9.5-cp310-cp310-manylinux_2_17_x86_64.manylinux2014_x86_64.whl (29.4 MB)\n",
            "\u001b[2K     \u001b[90m━━━━━━━━━━━━━━━━━━━━━━━━━━━━━━━━━━━━━━━━\u001b[0m \u001b[32m29.4/29.4 MB\u001b[0m \u001b[31m35.9 MB/s\u001b[0m eta \u001b[36m0:00:00\u001b[0m\n",
            "\u001b[?25hRequirement already satisfied: numpy in /usr/local/lib/python3.10/dist-packages (from rdkit-pypi) (1.23.5)\n",
            "Requirement already satisfied: Pillow in /usr/local/lib/python3.10/dist-packages (from rdkit-pypi) (9.4.0)\n",
            "Installing collected packages: rdkit-pypi\n",
            "Successfully installed rdkit-pypi-2022.9.5\n"
          ]
        }
      ]
    },
    {
      "cell_type": "code",
      "source": [
        "import rdkit\n",
        "from rdkit.Chem import AllChem\n",
        "from rdkit.Chem import Draw\n",
        "import rdkit.ML\n",
        "import numpy as np\n",
        "import pandas as pd\n",
        "import matplotlib.pyplot as plt\n",
        "from rdkit.Chem import AllChem\n",
        "import rdkit.ML.Descriptors.MoleculeDescriptors\n",
        "from rdkit.Chem.Descriptors import descList\n",
        "from rdkit import Chem\n",
        "from rdkit.Chem.Draw import MolsToGridImage\n",
        "from sklearn.preprocessing import MinMaxScaler\n",
        "from sklearn.linear_model import LinearRegression\n",
        "from sklearn.metrics import mean_squared_error\n"
      ],
      "metadata": {
        "id": "lw7X2Vu5rz3J"
      },
      "execution_count": 4,
      "outputs": []
    },
    {
      "cell_type": "markdown",
      "metadata": {
        "id": "TYs-WClCqSsy"
      },
      "source": [
        "## Ex 1. Read molecules from SMILES\n",
        "\n",
        "SMILES (Simplified Molecular-Input Line-Entry System) is a popular method for specifying molecules with text string. The RDkit library provides utilities to read molecules from SMILES.\n",
        "\n",
        "\n",
        "Paracetamol (Acetaminophen) is a commonly used medicine that can help treat pain and reduce a high temperature. It's given by the chemical formula $ C_8H_9N O_2$ and its SMILES is \"CC(=O)NC1=CC=C(O)C=C1\".\n",
        "\n",
        "\n",
        "1. Create the paracetamol molecule from its SMILES using the rdkit.Chem.MolFromSmiles class.\n",
        "\n",
        "\n",
        "2. Visualize its structure (it's sufficient to print the paracetamol molecule or to use rdkit.Chem.Draw.MolToImage())\n",
        "\n",
        "\n",
        "3. Print out the number of atoms. Did you get 11 ? It should be 20 atoms ? Why ?\n",
        "\n",
        "\n",
        "\n",
        "4. Print out the list of atoms.\n",
        "\n",
        "\n",
        "5. Find the number of bonds.\n",
        "\n"
      ]
    },
    {
      "cell_type": "code",
      "metadata": {
        "id": "ccbbFmLOqDJV"
      },
      "source": [
        "paracetamol = rdkit.Chem.MolFromSmiles(\"CC(=O)NC1=CC=C(O)C=C1\")"
      ],
      "execution_count": null,
      "outputs": []
    },
    {
      "cell_type": "code",
      "metadata": {
        "id": "8snxocdqsKNJ",
        "colab": {
          "base_uri": "https://localhost:8080/",
          "height": 317
        },
        "outputId": "248e79b5-691f-4115-ef65-0425401a67dc"
      },
      "source": [
        "rdkit.Chem.Draw.MolToImage(paracetamol)"
      ],
      "execution_count": null,
      "outputs": [
        {
          "output_type": "execute_result",
          "data": {
            "text/plain": [
              "<PIL.PngImagePlugin.PngImageFile image mode=RGB size=300x300>"
            ],
            "image/png": "[encoded data removed]"
          },
          "metadata": {},
          "execution_count": 4
        }
      ]
    },
    {
      "cell_type": "code",
      "metadata": {
        "id": "3yiWFSgdsk0j",
        "colab": {
          "base_uri": "https://localhost:8080/"
        },
        "outputId": "0ce96673-907e-4feb-f387-d5520b133d5f"
      },
      "source": [
        "paracetamol.GetNumAtoms()"
      ],
      "execution_count": null,
      "outputs": [
        {
          "output_type": "execute_result",
          "data": {
            "text/plain": [
              "11"
            ]
          },
          "metadata": {},
          "execution_count": 5
        }
      ]
    },
    {
      "cell_type": "markdown",
      "source": [
        "There are 11 atoms other than hydrogen in the paracetamol molecule. We deduce that hydrogen atoms are ignored."
      ],
      "metadata": {
        "id": "4USYwNC4fgfP"
      }
    },
    {
      "cell_type": "code",
      "metadata": {
        "id": "4rN88u9dtueQ",
        "colab": {
          "base_uri": "https://localhost:8080/"
        },
        "outputId": "eeb8fbc7-39b2-4499-b9e3-78a08b11a5af"
      },
      "source": [
        "for atom in paracetamol.GetAtoms():\n",
        "    print(atom.GetSymbol())"
      ],
      "execution_count": null,
      "outputs": [
        {
          "output_type": "stream",
          "name": "stdout",
          "text": [
            "C\n",
            "C\n",
            "O\n",
            "N\n",
            "C\n",
            "C\n",
            "C\n",
            "C\n",
            "O\n",
            "C\n",
            "C\n"
          ]
        }
      ]
    },
    {
      "cell_type": "code",
      "metadata": {
        "id": "4BJGnXswtxFV",
        "colab": {
          "base_uri": "https://localhost:8080/",
          "height": 196
        },
        "outputId": "2b4329d1-207e-49ee-9d36-29d5b940e0c5"
      },
      "source": [
        "print(f\"Hydrogens not included: {paracetamol.GetNumBonds()}\")\n",
        "print(f\"Hydrogens included: {paracetamol.GetNumBonds(onlyHeavy=False)}\")"
      ],
      "execution_count": 1,
      "outputs": [
        {
          "output_type": "error",
          "ename": "NameError",
          "evalue": "ignored",
          "traceback": [
            "\u001b[0;31m---------------------------------------------------------------------------\u001b[0m",
            "\u001b[0;31mNameError\u001b[0m                                 Traceback (most recent call last)",
            "\u001b[0;32m<ipython-input-1-6d3ea0de816e>\u001b[0m in \u001b[0;36m<cell line: 1>\u001b[0;34m()\u001b[0m\n\u001b[0;32m----> 1\u001b[0;31m \u001b[0mprint\u001b[0m\u001b[0;34m(\u001b[0m\u001b[0;34mf\"Hydrogens not included: {paracetamol.GetNumBonds()}\"\u001b[0m\u001b[0;34m)\u001b[0m\u001b[0;34m\u001b[0m\u001b[0;34m\u001b[0m\u001b[0m\n\u001b[0m\u001b[1;32m      2\u001b[0m \u001b[0mprint\u001b[0m\u001b[0;34m(\u001b[0m\u001b[0;34mf\"Hydrogens included: {paracetamol.GetNumBonds(onlyHeavy=False)}\"\u001b[0m\u001b[0;34m)\u001b[0m\u001b[0;34m\u001b[0m\u001b[0;34m\u001b[0m\u001b[0m\n",
            "\u001b[0;31mNameError\u001b[0m: name 'paracetamol' is not defined"
          ]
        }
      ]
    },
    {
      "cell_type": "markdown",
      "metadata": {
        "id": "5ch4vabFuReu"
      },
      "source": [
        "## Ex 2 Read data from chemical file format\n",
        "\n",
        "Apart SMILES, .SDF/ .Mol are also the common formats to save molecules. RDKit provides also functionalities to read these files.\n",
        "\n",
        "\n",
        "Morphine is an opioid agonist used for the relief of moderate to severe acute and chronic pain. The chemical information of this drug can be found at\n",
        "\"https://go.drugbank.com/structures/small_molecule_drugs/DB00295.sdf\".\n",
        "\n",
        "\n",
        "1. Download this file and save it in a folder.\n",
        "\n",
        "\n",
        "2. Read the morphine molecule from the file that you've downloaded using \"rdkit.Chem.SDMolSupplier\"\n",
        "\n",
        "\n",
        "3. With the help of rdkit.Chem.AllChem.GetMorganFingerprintAsBitVect, compute its fingerprint as a bit vector."
      ]
    },
    {
      "cell_type": "markdown",
      "source": [
        "1. Downloading and saving the morphine mollecule in a folder"
      ],
      "metadata": {
        "id": "piEamCYBjLD1"
      }
    },
    {
      "cell_type": "code",
      "source": [
        "MOLECULE_FOLDER = \"molecules\""
      ],
      "metadata": {
        "id": "OIMKf7Emi2U9"
      },
      "execution_count": 4,
      "outputs": []
    },
    {
      "cell_type": "code",
      "metadata": {
        "id": "9VLF599Yv5V1",
        "colab": {
          "base_uri": "https://localhost:8080/"
        },
        "outputId": "a89845aa-714b-47b2-cc83-e805b4b977da"
      },
      "source": [
        "!mkdir \"molecules\"\n",
        "!wget https://go.drugbank.com/structures/small_molecule_drugs/DB00295.sdf\n",
        "!mv DB00295.sdf \"molecules/\""
      ],
      "execution_count": 6,
      "outputs": [
        {
          "output_type": "stream",
          "name": "stdout",
          "text": [
            "mkdir: cannot create directory ‘molecules’: File exists\n",
            "--2023-09-25 09:58:51--  https://go.drugbank.com/structures/small_molecule_drugs/DB00295.sdf\n",
            "Resolving go.drugbank.com (go.drugbank.com)... 172.66.41.6, 172.66.42.250, 2606:4700:3108::ac42:2906, ...\n",
            "Connecting to go.drugbank.com (go.drugbank.com)|172.66.41.6|:443... connected.\n",
            "HTTP request sent, awaiting response... 200 OK\n",
            "Length: unspecified [text/plain]\n",
            "Saving to: ‘DB00295.sdf.1’\n",
            "\n",
            "DB00295.sdf.1           [ <=>                ]   7.38K  --.-KB/s    in 0s      \n",
            "\n",
            "2023-09-25 09:58:51 (48.3 MB/s) - ‘DB00295.sdf.1’ saved [7559]\n",
            "\n"
          ]
        }
      ]
    },
    {
      "cell_type": "markdown",
      "source": [
        "2. Reading the morphine molecule"
      ],
      "metadata": {
        "id": "alkeIveijQe5"
      }
    },
    {
      "cell_type": "code",
      "source": [
        "morphine = rdkit.Chem.SDMolSupplier(\"molecules\" + \"/DB00295.sdf\")[0]"
      ],
      "metadata": {
        "id": "RZEa2R-QjIxn"
      },
      "execution_count": 7,
      "outputs": []
    },
    {
      "cell_type": "code",
      "metadata": {
        "id": "9Cb8JDUe0pOw"
      },
      "source": [
        "morphine_fingerprint = rdkit.Chem.AllChem.GetMorganFingerprintAsBitVect(morphine, 2)"
      ],
      "execution_count": 8,
      "outputs": []
    },
    {
      "cell_type": "code",
      "source": [
        "morphine_fingerprint.ToBitString()"
      ],
      "metadata": {
        "colab": {
          "base_uri": "https://localhost:8080/",
          "height": 219
        },
        "id": "nSCBwMsKlQEl",
        "outputId": "4d7e7968-88ba-4229-b367-01f9c4414a2a"
      },
      "execution_count": null,
      "outputs": [
        {
          "output_type": "execute_result",
          "data": {
            "text/plain": [
              "'00000000000000000000000000000000000000000000000000000000000000000001000000000100000000000000000000000000000000000000000000000000000000000000000000000000000000000000000000000000000000000000000000000000000000000001000000000000000000010000000000000000000000000000000000000000000000000000000000000000100000000000000100000000000000000000000000000000000000000000000000000000000000000000000000000000000000000000000000000100000000000000000000000000000000000000000000000000000000000000000000000010000000000100000000000000000000000000000000000000000000000000000000100000000000000100000000001001000000000000000000000000000000000000000000000000000000000000000000000000100000000000000000000000000000000000000000000000010000000000000000000000000000000000000000000010000000000000000000000000000000000000000000000000000000010000000000000000000000000000000000000000000000000000000000000000010000000000000000000000000000000000000000000000000000100000000100001000000000000000000000000000000000000000000000000000000000000000000000000000000100000000000000000001000000000000000001001000000000000000000000010000000000000000000000000000000000000000000000000000000000000100000000000000001000000001001000000000000000000000000000000000000000000000000000000000000010000000000000000000010000000000000000000000000000000000001000000000000000000000000000000000000000000000000000000000000000000000000000000000000010000000000000000000000000000000000000000000000000001000000000000000000000000000000000000000000100001000000000000000000000000000000000000000000000000000000000000000000000000000010000000000000000000000000000000000000000000010000100000000000000100000000000000000000000000000000000000000000000010000000000000000010000000000000000000000000000000000000000000000000000000000001000000000000000000000000000000000000000000000000000000000000000000000000000000000000000000000000000000000000000000000000001000000000000000000000000000000000000000000000000000000000000000000000000000000000000000000000000000000000010000000000000000000000000000000000000000000000000000000000000000000'"
            ],
            "application/vnd.google.colaboratory.intrinsic+json": {
              "type": "string"
            }
          },
          "metadata": {},
          "execution_count": 13
        }
      ]
    },
    {
      "cell_type": "markdown",
      "metadata": {
        "id": "gljbmF6p3RX8"
      },
      "source": [
        "## EX3. Fingerprints\n",
        "\n",
        "\n",
        "A chemical structure can be characterized by a set of numerical values known as molecular fingerprints. They may be 2D Fragment-based fingerprints presented by bit arrays of 0s and 1s wherein each bit position indicates the presence or absence of structural fragments.\n",
        "\n",
        "\n",
        "The RDKit has a variety of built-in functionality for generating molecular fingerprints and then using them to calculate molecular similarity. In this exercise, we will generate the fingerprints for parcetamol and aspirin that are two popular drugs used for pains.\n",
        "\n",
        "\n",
        "\n",
        "1. Compute the fingerprint of the paracetamol as bit vector by using the rdkit.AllChem.GetMorganFingerprintAsBitVectCompute Class. Convert it to a numpy vector. Known that Paracetamol's SMILES is \"\"CC(=O)OC1=CC=CC=C1C(O)=O\". Choose the number of bits nBits= 1024. Find the elements that are nonzero of the vector.\n",
        "\n",
        "2. Do the same thing for the aspirin. Aspirin's SMILES is \"CC(=O)NC1=CC=C(O)C=C1\".\n",
        "\n",
        "\n",
        "\n",
        "3. Using rdkit.DataStructs.DiceSimilarity(), compute the DiceSimilarity between the fingerprints of the paracetamol and the aspirin."
      ]
    },
    {
      "cell_type": "code",
      "metadata": {
        "id": "8PALjOz5232Z"
      },
      "source": [
        "bit_vector = {}\n",
        "paracetamol = rdkit.Chem.MolFromSmiles(\"CC(=O)OC1=CC=CC=C1C(O)=O\")\n",
        "paracetamol_fingerprint = rdkit.Chem.AllChem.GetMorganFingerprintAsBitVect(paracetamol, 2,\n",
        "                                                                  nBits=1024, bitInfo = bit_vector)"
      ],
      "execution_count": 9,
      "outputs": []
    },
    {
      "cell_type": "code",
      "source": [
        "lb = [(paracetamol, x, bit_vector) for x in paracetamol_fingerprint.GetOnBits()]\n",
        "Draw.DrawMorganBits(lb, molsPerRow=4, legends=[str(x) for x in paracetamol_fingerprint.GetOnBits()])"
      ],
      "metadata": {
        "colab": {
          "base_uri": "https://localhost:8080/",
          "height": 917
        },
        "id": "rQcDEcdLsBM_",
        "outputId": "b483cfdb-5420-4be2-a4e1-4323d8a037e7"
      },
      "execution_count": 11,
      "outputs": [
        {
          "output_type": "execute_result",
          "data": {
            "text/plain": [
              "<PIL.PngImagePlugin.PngImageFile image mode=RGB size=600x900>"
            ],
            "image/png": "[encoded data removed]"
          },
          "metadata": {},
          "execution_count": 11
        }
      ]
    },
    {
      "cell_type": "code",
      "metadata": {
        "id": "5PdK21vk3akj"
      },
      "source": [
        "aspirin = rdkit.Chem.MolFromSmiles(\"CC(=O)NC1=CC=C(O)C=C1\")\n",
        "bit_vector = {}\n",
        "aspirin_fingerprint = rdkit.Chem.AllChem.GetMorganFingerprintAsBitVect(aspirin,2, nBits=1024,\n",
        "                                                              bitInfo = bit_vector)"
      ],
      "execution_count": 14,
      "outputs": []
    },
    {
      "cell_type": "code",
      "metadata": {
        "id": "FWUW82xM3de5",
        "colab": {
          "base_uri": "https://localhost:8080/",
          "height": 767
        },
        "outputId": "1de46675-946d-4a04-c6c1-ef52d6337777"
      },
      "source": [
        "lb = [(aspirin, x, bit_vector) for x in aspirin_fingerprint.GetOnBits()]\n",
        "Draw.DrawMorganBits(lb, molsPerRow=4, legends=[str(x) for x in aspirin_fingerprint.GetOnBits()])"
      ],
      "execution_count": 15,
      "outputs": [
        {
          "output_type": "execute_result",
          "data": {
            "text/plain": [
              "<PIL.PngImagePlugin.PngImageFile image mode=RGB size=600x750>"
            ],
            "image/png": "[encoded data removed]"
          },
          "metadata": {},
          "execution_count": 15
        }
      ]
    },
    {
      "cell_type": "code",
      "metadata": {
        "id": "Hip2WFdc3gEP",
        "colab": {
          "base_uri": "https://localhost:8080/"
        },
        "outputId": "f96a0c8a-ce34-45cb-a298-06b82172a057"
      },
      "source": [
        "rdkit.DataStructs.DiceSimilarity(paracetamol_fingerprint, aspirin_fingerprint)"
      ],
      "execution_count": 16,
      "outputs": [
        {
          "output_type": "execute_result",
          "data": {
            "text/plain": [
              "0.37209302325581395"
            ]
          },
          "metadata": {},
          "execution_count": 16
        }
      ]
    },
    {
      "cell_type": "markdown",
      "metadata": {
        "id": "GZXsjZGw3ofC"
      },
      "source": [
        "## EX 4: Descriptors\n",
        "\n",
        "Molecules are also described by a set of physiochemical descriptors. They should be the log partition coefficient, the polar surface area ... that describe the molecule's structure.\n",
        "\n",
        "\n",
        "RDKit provides utilities that allow us to compute descriptor of molecules.\n",
        "Using the rdkit.ML.Descriptors.MoleculeDescriptors.MolecularDescriptorCalculator class, compute the descriptor for paracetamol molecule from SMILES string. Note that SMILES string for paracetamol is \"CC(=O)NC1=CC=C(O)C=C1\"\n",
        "\n"
      ]
    },
    {
      "cell_type": "code",
      "metadata": {
        "id": "vQcACF5K3l1y"
      },
      "source": [
        "paracetamol = rdkit.Chem.MolFromSmiles(\"CC(=O)NC1=CC=C(O)C=C1\")"
      ],
      "execution_count": 18,
      "outputs": []
    },
    {
      "cell_type": "code",
      "source": [
        "descriptor = rdkit.ML.Descriptors.MoleculeDescriptors.MolecularDescriptorCalculator([x[0] for x in descList])\n"
      ],
      "metadata": {
        "id": "avwuusNb0Ziz"
      },
      "execution_count": 19,
      "outputs": []
    },
    {
      "cell_type": "code",
      "source": [
        "descriptor.CalcDescriptors(paracetamol)"
      ],
      "metadata": {
        "colab": {
          "base_uri": "https://localhost:8080/"
        },
        "id": "eBroyz9QayTE",
        "outputId": "95d7cfa3-fe95-4f74-c960-75879993909e"
      },
      "execution_count": 20,
      "outputs": [
        {
          "output_type": "execute_result",
          "data": {
            "text/plain": [
              "(10.524468537414966,\n",
              " -0.11510204081632636,\n",
              " 10.524468537414966,\n",
              " 0.11510204081632636,\n",
              " 0.5950261967780849,\n",
              " 151.165,\n",
              " 142.093,\n",
              " 151.063328528,\n",
              " 58,\n",
              " 0,\n",
              " 0.22074743631242583,\n",
              " -0.5079643157925783,\n",
              " 0.5079643157925783,\n",
              " 0.22074743631242583,\n",
              " 1.3636363636363635,\n",
              " 1.9090909090909092,\n",
              " 2.3636363636363638,\n",
              " 16.25468871437965,\n",
              " 10.280190859964755,\n",
              " 1.9280360590359866,\n",
              " -1.9945540738765895,\n",
              " 2.12524757916018,\n",
              " -2.04401131261029,\n",
              " 5.88095478459792,\n",
              " -0.11373578338266109,\n",
              " 2.7362980721056545,\n",
              " 253.29949758389105,\n",
              " 8.267584713501616,\n",
              " 6.164862962722325,\n",
              " 6.164862962722325,\n",
              " 5.1815405503520555,\n",
              " 3.2490981480278296,\n",
              " 3.2490981480278296,\n",
              " 2.228060242189872,\n",
              " 2.228060242189872,\n",
              " 1.1876733148984595,\n",
              " 1.1876733148984595,\n",
              " 0.7480265991539318,\n",
              " 0.7480265991539318,\n",
              " -1.5099999999999998,\n",
              " 285.51074052739676,\n",
              " 7.595374077976819,\n",
              " 3.0531381005525,\n",
              " 2.292303972882069,\n",
              " 64.66690538413799,\n",
              " 10.423315998847038,\n",
              " 5.749511833283905,\n",
              " 0.0,\n",
              " 5.907179729351506,\n",
              " 0.0,\n",
              " 0.0,\n",
              " 4.794537184071822,\n",
              " 0.0,\n",
              " 0.0,\n",
              " 0.0,\n",
              " 0.0,\n",
              " 24.26546827384644,\n",
              " 12.611123474374185,\n",
              " 0.0,\n",
              " 9.901064578912528,\n",
              " 11.594566004035068,\n",
              " 0.0,\n",
              " 0.0,\n",
              " 0.0,\n",
              " 6.923737199690624,\n",
              " 5.316788604006331,\n",
              " 24.26546827384644,\n",
              " 0.0,\n",
              " 5.749511833283905,\n",
              " 5.316788604006331,\n",
              " 5.687386274683562,\n",
              " 5.749511833283905,\n",
              " 0.0,\n",
              " 11.013707124192212,\n",
              " 4.794537184071822,\n",
              " 0.0,\n",
              " 6.923737199690624,\n",
              " 24.26546827384644,\n",
              " 0.0,\n",
              " 0.0,\n",
              " 0.0,\n",
              " 49.33,\n",
              " 0.0,\n",
              " 4.794537184071822,\n",
              " 0.0,\n",
              " 11.65669156263541,\n",
              " 5.687386274683562,\n",
              " 0.0,\n",
              " 19.056471336613843,\n",
              " 12.13273413692322,\n",
              " 0.0,\n",
              " 5.316788604006331,\n",
              " 5.106527394840706,\n",
              " 0.0,\n",
              " 0.0,\n",
              " 10.524468537414966,\n",
              " 11.460032596371882,\n",
              " 0.6900925925925929,\n",
              " 0.07851095993953194,\n",
              " 6.309537037037037,\n",
              " 0.0,\n",
              " 1.437358276643991,\n",
              " 0.0,\n",
              " 0.125,\n",
              " 11,\n",
              " 2,\n",
              " 3,\n",
              " 0,\n",
              " 0,\n",
              " 0,\n",
              " 1,\n",
              " 0,\n",
              " 1,\n",
              " 2,\n",
              " 2,\n",
              " 3,\n",
              " 1,\n",
              " 0,\n",
              " 0,\n",
              " 0,\n",
              " 1,\n",
              " 1.3505999999999998,\n",
              " 42.41050000000002,\n",
              " 0,\n",
              " 0,\n",
              " 0,\n",
              " 0,\n",
              " 0,\n",
              " 0,\n",
              " 0,\n",
              " 1,\n",
              " 0,\n",
              " 0,\n",
              " 1,\n",
              " 1,\n",
              " 0,\n",
              " 0,\n",
              " 0,\n",
              " 0,\n",
              " 1,\n",
              " 0,\n",
              " 0,\n",
              " 0,\n",
              " 0,\n",
              " 0,\n",
              " 0,\n",
              " 0,\n",
              " 0,\n",
              " 0,\n",
              " 0,\n",
              " 1,\n",
              " 0,\n",
              " 1,\n",
              " 0,\n",
              " 0,\n",
              " 0,\n",
              " 0,\n",
              " 1,\n",
              " 0,\n",
              " 0,\n",
              " 0,\n",
              " 0,\n",
              " 0,\n",
              " 0,\n",
              " 0,\n",
              " 0,\n",
              " 0,\n",
              " 0,\n",
              " 0,\n",
              " 0,\n",
              " 0,\n",
              " 0,\n",
              " 0,\n",
              " 0,\n",
              " 0,\n",
              " 0,\n",
              " 0,\n",
              " 0,\n",
              " 0,\n",
              " 0,\n",
              " 0,\n",
              " 0,\n",
              " 0,\n",
              " 0,\n",
              " 0,\n",
              " 0,\n",
              " 0,\n",
              " 0,\n",
              " 1,\n",
              " 1,\n",
              " 0,\n",
              " 0,\n",
              " 0,\n",
              " 0,\n",
              " 0,\n",
              " 0,\n",
              " 0,\n",
              " 0,\n",
              " 0,\n",
              " 0,\n",
              " 0,\n",
              " 0,\n",
              " 0,\n",
              " 0,\n",
              " 0,\n",
              " 0,\n",
              " 0,\n",
              " 0)"
            ]
          },
          "metadata": {},
          "execution_count": 20
        }
      ]
    },
    {
      "cell_type": "markdown",
      "metadata": {
        "id": "SvHtYagP31vo"
      },
      "source": [
        "## Ex5: SMART\n",
        "\n",
        "In many commonly used applications, we need to determine whether atoms in a molecule match a particular pattern. It can be used for filtering structures or identifying substructures that are associated with toxicological problem.\n",
        "\n",
        "SMART us an extension of the SMILES language that can be used to create queries.\n",
        "\n",
        "1. Find molecules in the following list named \"smiles_list\" that contain the \"CCC\" pattern (you can use the GetSubstructMatch class).\n",
        "\n",
        "\n",
        "2. Highlight the pattern \"CCC\" in these molecules.\n",
        "\n",
        "\n",
        "3. Do the same thing ex 1 but for the pattern \"C(=O)N\"."
      ]
    },
    {
      "cell_type": "code",
      "metadata": {
        "id": "mXqKwAO03xQi"
      },
      "source": [
        "smiles_list = [\"CCCCC\",\"CCOCC\",\"CCNCC\",\"CC(=O)NC1=CC=C(O)C=C1\", \"CC(=O)NC1=CC=C(O[13CH3])C=C1\", \"CN(C(=O)C(Cl)Cl)C1=CC=C(O)C=C1\"]\n"
      ],
      "execution_count": 27,
      "outputs": []
    },
    {
      "cell_type": "code",
      "metadata": {
        "id": "HAd-F-3d36WA"
      },
      "source": [
        "pattern1 = Chem.MolFromSmarts(\"CCC\")\n",
        "\n",
        "molecules_with_pattern1 = []\n",
        "\n",
        "for smiles in smiles_list:\n",
        "    mol = Chem.MolFromSmiles(smiles)\n",
        "    if mol:\n",
        "        if mol.HasSubstructMatch(pattern1):\n",
        "            molecules_with_pattern1.append(mol)\n",
        "\n",
        "for mol in molecules_with_pattern1:\n",
        "    AllChem.Compute2DCoords(mol)\n",
        "    Draw.MolToImage(mol, kekulize=True)"
      ],
      "execution_count": 29,
      "outputs": []
    },
    {
      "cell_type": "code",
      "metadata": {
        "id": "kLR_cPK739DY"
      },
      "source": [
        "pattern2 = Chem.MolFromSmarts(\"C(=O)N\")\n",
        "\n",
        "molecules_with_pattern2 = []\n",
        "\n",
        "for smiles in smiles_list:\n",
        "    mol = Chem.MolFromSmiles(smiles)\n",
        "    if mol:\n",
        "        if mol.HasSubstructMatch(pattern2):\n",
        "            molecules_with_pattern2.append(mol)\n",
        "\n",
        "for mol in molecules_with_pattern2:\n",
        "    AllChem.Compute2DCoords(mol)\n",
        "    Draw.MolToImage(mol, kekulize=True)\n"
      ],
      "execution_count": 30,
      "outputs": []
    },
    {
      "cell_type": "markdown",
      "metadata": {
        "id": "UxbRPmkS4LSq"
      },
      "source": [
        "## Ex6: Machine learning with RDkit - Predict solubility\n",
        "\n",
        "In this exercise, we will use machine learning to predict solubility of molecules. For this purpose, we will borrow a dataset from rdkit that is originated from the Huuskonen dataset. We will try to predict Aqueous Solubility for molecules that is known as \"logS\".\n",
        "\n",
        "\n",
        "This exercise is divided into 3 parts: Preparing a dataset, training a model and preparing dataset for prediction and applying a predictive model.\n",
        "\n"
      ]
    },
    {
      "cell_type": "markdown",
      "metadata": {
        "id": "FpqVGPg_4QaQ"
      },
      "source": [
        "## EX6.I Preparing dataset\n",
        "\n",
        "Preparing dataset requires a few steps:\n",
        "\n",
        "\n",
        "1. Download file from \"https://raw.githubusercontent.com/rdkit/rdkit/master/Docs/Book/data/solubility.train.sdf\".\n",
        "\n",
        "\n",
        "2. With the help of rdkit.Chem.SDMolSupplier, get list of molecules contained in this file. You should call this list as **molecule_list**. The option **removeHs=False** should be chosen.\n",
        "\n",
        "\n",
        "3. Write a function named **calculate_descriptors(mol)** that allows us to calculate descriptors of a molecule. This function takes a Rdkit molecule as input and returns an array vector of descriptors.\n",
        "\n",
        "\n",
        "4. Apply the function **caluclate_descriptors** to the list of molecules **molecule_list** and store the result in a dataframe named **df**. Look at few rows of **df** to see whether the descriptors are calculated.\n",
        "\n",
        "\n",
        "5. For each molecule from this dataset, we can get the aqueous solubility (logS) via attribute **getProp('SOL')**. Create a list that contains the aqueous solubility of all molecules from the **molecule_list** list. You should call this list by **labels**. Remember to convert these values to float format.\n",
        "\n",
        "\n",
        "6. Plot the histogram of the \"labels\" list to see the distribution of the solubility of molecules. Do you have some comments about the aqueous solubility of molecules ?\n",
        "\n"
      ]
    },
    {
      "cell_type": "code",
      "metadata": {
        "colab": {
          "base_uri": "https://localhost:8080/"
        },
        "id": "uAuDoU7u3_k4",
        "outputId": "3e39a65a-2411-4d36-88f4-3b7db9ba4f1b"
      },
      "source": [
        "# Q1\n",
        "!wget https://raw.githubusercontent.com/rdkit/rdkit/master/Docs/Book/data/solubility.train.sdf"
      ],
      "execution_count": null,
      "outputs": [
        {
          "output_type": "stream",
          "name": "stdout",
          "text": [
            "--2023-09-20 22:00:09--  https://raw.githubusercontent.com/rdkit/rdkit/master/Docs/Book/data/solubility.train.sdf\n",
            "Resolving raw.githubusercontent.com (raw.githubusercontent.com)... 185.199.108.133, 185.199.109.133, 185.199.110.133, ...\n",
            "Connecting to raw.githubusercontent.com (raw.githubusercontent.com)|185.199.108.133|:443... connected.\n",
            "HTTP request sent, awaiting response... 200 OK\n",
            "Length: 1376487 (1.3M) [text/plain]\n",
            "Saving to: ‘solubility.train.sdf.4’\n",
            "\n",
            "\rsolubility.train.sd   0%[                    ]       0  --.-KB/s               \rsolubility.train.sd 100%[===================>]   1.31M  --.-KB/s    in 0.04s   \n",
            "\n",
            "2023-09-20 22:00:09 (31.0 MB/s) - ‘solubility.train.sdf.4’ saved [1376487/1376487]\n",
            "\n"
          ]
        }
      ]
    },
    {
      "cell_type": "code",
      "metadata": {
        "id": "IVzIr6ax4lzk"
      },
      "source": [
        "# Q2\n",
        "molecule_list = rdkit.Chem.SDMolSupplier(\"solubility.train.sdf\", removeHs=False)"
      ],
      "execution_count": null,
      "outputs": []
    },
    {
      "cell_type": "code",
      "metadata": {
        "id": "lnKz9r0a4xQo"
      },
      "source": [
        "# Q3\n",
        "def calculate_descriptors(mol):\n",
        "    calc = rdkit.ML.Descriptors.MoleculeDescriptors.MolecularDescriptorCalculator([x[0] for x in descList])\n",
        "    arr = calc.CalcDescriptors(mol)\n",
        "    return np.array(arr)"
      ],
      "execution_count": null,
      "outputs": []
    },
    {
      "cell_type": "code",
      "metadata": {
        "id": "v7vbkPlh46Uj",
        "colab": {
          "base_uri": "https://localhost:8080/",
          "height": 444
        },
        "outputId": "9c96a877-7dbe-4ff5-bd0f-69216b4f62ae"
      },
      "source": [
        "# Q4\n",
        "columns = [x[0] for x in descList]\n",
        "data = [calculate_descriptors(x) for x in molecule_list]\n",
        "df = pd.DataFrame(data = data, columns = columns)\n",
        "df"
      ],
      "execution_count": null,
      "outputs": [
        {
          "output_type": "execute_result",
          "data": {
            "text/plain": [
              "      MaxEStateIndex  MinEStateIndex  MaxAbsEStateIndex  MinAbsEStateIndex  \\\n",
              "0           2.211806        1.343750           2.211806           1.343750   \n",
              "1           1.500000        1.500000           1.500000           1.500000   \n",
              "2           2.231806        1.355000           2.231806           1.355000   \n",
              "3           2.253472        0.898148           2.253472           0.898148   \n",
              "4           2.243056        0.541667           2.243056           0.541667   \n",
              "...              ...             ...                ...                ...   \n",
              "1020       13.185826       -1.627805          13.185826           0.003051   \n",
              "1021       12.042248       -1.044559          12.042248           0.066834   \n",
              "1022       13.125689       -2.328350          13.125689           0.037157   \n",
              "1023       13.235654       -1.605971          13.235654           0.033093   \n",
              "1024       12.263757       -2.099513          12.263757           0.078936   \n",
              "\n",
              "           qed    MolWt  HeavyAtomMolWt  ExactMolWt  NumValenceElectrons  \\\n",
              "0     0.468786   72.151          60.055   72.093900                 32.0   \n",
              "1     0.408362   70.135          60.055   70.078250                 30.0   \n",
              "2     0.462954   86.178          72.066   86.109550                 38.0   \n",
              "3     0.483890   86.178          72.066   86.109550                 38.0   \n",
              "4     0.424482   86.178          72.066   86.109550                 38.0   \n",
              "...        ...      ...             ...         ...                  ...   \n",
              "1020  0.648763  444.568         408.280  444.251189                176.0   \n",
              "1021  0.410290  465.631         422.287  465.309038                188.0   \n",
              "1022  0.574043  385.416         362.232  385.152537                148.0   \n",
              "1023  0.619599  460.611         420.291  460.282489                184.0   \n",
              "1024  0.156889  665.733         618.357  665.304741                262.0   \n",
              "\n",
              "      NumRadicalElectrons  ...  fr_sulfide  fr_sulfonamd  fr_sulfone  \\\n",
              "0                     0.0  ...         0.0           0.0         0.0   \n",
              "1                     0.0  ...         0.0           0.0         0.0   \n",
              "2                     0.0  ...         0.0           0.0         0.0   \n",
              "3                     0.0  ...         0.0           0.0         0.0   \n",
              "4                     0.0  ...         0.0           0.0         0.0   \n",
              "...                   ...  ...         ...           ...         ...   \n",
              "1020                  0.0  ...         0.0           0.0         0.0   \n",
              "1021                  0.0  ...         0.0           0.0         0.0   \n",
              "1022                  0.0  ...         0.0           0.0         0.0   \n",
              "1023                  0.0  ...         0.0           0.0         0.0   \n",
              "1024                  0.0  ...         0.0           0.0         0.0   \n",
              "\n",
              "      fr_term_acetylene  fr_tetrazole  fr_thiazole  fr_thiocyan  fr_thiophene  \\\n",
              "0                   0.0           0.0          0.0          0.0           0.0   \n",
              "1                   0.0           0.0          0.0          0.0           0.0   \n",
              "2                   0.0           0.0          0.0          0.0           0.0   \n",
              "3                   0.0           0.0          0.0          0.0           0.0   \n",
              "4                   0.0           0.0          0.0          0.0           0.0   \n",
              "...                 ...           ...          ...          ...           ...   \n",
              "1020                0.0           0.0          0.0          0.0           0.0   \n",
              "1021                0.0           0.0          0.0          0.0           0.0   \n",
              "1022                0.0           0.0          0.0          0.0           0.0   \n",
              "1023                0.0           0.0          0.0          0.0           0.0   \n",
              "1024                0.0           0.0          0.0          0.0           0.0   \n",
              "\n",
              "      fr_unbrch_alkane  fr_urea  \n",
              "0                  0.0      0.0  \n",
              "1                  0.0      0.0  \n",
              "2                  1.0      0.0  \n",
              "3                  0.0      0.0  \n",
              "4                  0.0      0.0  \n",
              "...                ...      ...  \n",
              "1020               0.0      0.0  \n",
              "1021               0.0      0.0  \n",
              "1022               0.0      0.0  \n",
              "1023               0.0      0.0  \n",
              "1024               0.0      0.0  \n",
              "\n",
              "[1025 rows x 208 columns]"
            ],
            "text/html": [
              "\n",
              "  <div id=\"df-e45ac28e-5df2-4f3b-8283-d3ad733cb2f8\" class=\"colab-df-container\">\n",
              "    <div>\n",
              "<style scoped>\n",
              "    .dataframe tbody tr th:only-of-type {\n",
              "        vertical-align: middle;\n",
              "    }\n",
              "\n",
              "    .dataframe tbody tr th {\n",
              "        vertical-align: top;\n",
              "    }\n",
              "\n",
              "    .dataframe thead th {\n",
              "        text-align: right;\n",
              "    }\n",
              "</style>\n",
              "<table border=\"1\" class=\"dataframe\">\n",
              "  <thead>\n",
              "    <tr style=\"text-align: right;\">\n",
              "      <th></th>\n",
              "      <th>MaxEStateIndex</th>\n",
              "      <th>MinEStateIndex</th>\n",
              "      <th>MaxAbsEStateIndex</th>\n",
              "      <th>MinAbsEStateIndex</th>\n",
              "      <th>qed</th>\n",
              "      <th>MolWt</th>\n",
              "      <th>HeavyAtomMolWt</th>\n",
              "      <th>ExactMolWt</th>\n",
              "      <th>NumValenceElectrons</th>\n",
              "      <th>NumRadicalElectrons</th>\n",
              "      <th>...</th>\n",
              "      <th>fr_sulfide</th>\n",
              "      <th>fr_sulfonamd</th>\n",
              "      <th>fr_sulfone</th>\n",
              "      <th>fr_term_acetylene</th>\n",
              "      <th>fr_tetrazole</th>\n",
              "      <th>fr_thiazole</th>\n",
              "      <th>fr_thiocyan</th>\n",
              "      <th>fr_thiophene</th>\n",
              "      <th>fr_unbrch_alkane</th>\n",
              "      <th>fr_urea</th>\n",
              "    </tr>\n",
              "  </thead>\n",
              "  <tbody>\n",
              "    <tr>\n",
              "      <th>0</th>\n",
              "      <td>2.211806</td>\n",
              "      <td>1.343750</td>\n",
              "      <td>2.211806</td>\n",
              "      <td>1.343750</td>\n",
              "      <td>0.468786</td>\n",
              "      <td>72.151</td>\n",
              "      <td>60.055</td>\n",
              "      <td>72.093900</td>\n",
              "      <td>32.0</td>\n",
              "      <td>0.0</td>\n",
              "      <td>...</td>\n",
              "      <td>0.0</td>\n",
              "      <td>0.0</td>\n",
              "      <td>0.0</td>\n",
              "      <td>0.0</td>\n",
              "      <td>0.0</td>\n",
              "      <td>0.0</td>\n",
              "      <td>0.0</td>\n",
              "      <td>0.0</td>\n",
              "      <td>0.0</td>\n",
              "      <td>0.0</td>\n",
              "    </tr>\n",
              "    <tr>\n",
              "      <th>1</th>\n",
              "      <td>1.500000</td>\n",
              "      <td>1.500000</td>\n",
              "      <td>1.500000</td>\n",
              "      <td>1.500000</td>\n",
              "      <td>0.408362</td>\n",
              "      <td>70.135</td>\n",
              "      <td>60.055</td>\n",
              "      <td>70.078250</td>\n",
              "      <td>30.0</td>\n",
              "      <td>0.0</td>\n",
              "      <td>...</td>\n",
              "      <td>0.0</td>\n",
              "      <td>0.0</td>\n",
              "      <td>0.0</td>\n",
              "      <td>0.0</td>\n",
              "      <td>0.0</td>\n",
              "      <td>0.0</td>\n",
              "      <td>0.0</td>\n",
              "      <td>0.0</td>\n",
              "      <td>0.0</td>\n",
              "      <td>0.0</td>\n",
              "    </tr>\n",
              "    <tr>\n",
              "      <th>2</th>\n",
              "      <td>2.231806</td>\n",
              "      <td>1.355000</td>\n",
              "      <td>2.231806</td>\n",
              "      <td>1.355000</td>\n",
              "      <td>0.462954</td>\n",
              "      <td>86.178</td>\n",
              "      <td>72.066</td>\n",
              "      <td>86.109550</td>\n",
              "      <td>38.0</td>\n",
              "      <td>0.0</td>\n",
              "      <td>...</td>\n",
              "      <td>0.0</td>\n",
              "      <td>0.0</td>\n",
              "      <td>0.0</td>\n",
              "      <td>0.0</td>\n",
              "      <td>0.0</td>\n",
              "      <td>0.0</td>\n",
              "      <td>0.0</td>\n",
              "      <td>0.0</td>\n",
              "      <td>1.0</td>\n",
              "      <td>0.0</td>\n",
              "    </tr>\n",
              "    <tr>\n",
              "      <th>3</th>\n",
              "      <td>2.253472</td>\n",
              "      <td>0.898148</td>\n",
              "      <td>2.253472</td>\n",
              "      <td>0.898148</td>\n",
              "      <td>0.483890</td>\n",
              "      <td>86.178</td>\n",
              "      <td>72.066</td>\n",
              "      <td>86.109550</td>\n",
              "      <td>38.0</td>\n",
              "      <td>0.0</td>\n",
              "      <td>...</td>\n",
              "      <td>0.0</td>\n",
              "      <td>0.0</td>\n",
              "      <td>0.0</td>\n",
              "      <td>0.0</td>\n",
              "      <td>0.0</td>\n",
              "      <td>0.0</td>\n",
              "      <td>0.0</td>\n",
              "      <td>0.0</td>\n",
              "      <td>0.0</td>\n",
              "      <td>0.0</td>\n",
              "    </tr>\n",
              "    <tr>\n",
              "      <th>4</th>\n",
              "      <td>2.243056</td>\n",
              "      <td>0.541667</td>\n",
              "      <td>2.243056</td>\n",
              "      <td>0.541667</td>\n",
              "      <td>0.424482</td>\n",
              "      <td>86.178</td>\n",
              "      <td>72.066</td>\n",
              "      <td>86.109550</td>\n",
              "      <td>38.0</td>\n",
              "      <td>0.0</td>\n",
              "      <td>...</td>\n",
              "      <td>0.0</td>\n",
              "      <td>0.0</td>\n",
              "      <td>0.0</td>\n",
              "      <td>0.0</td>\n",
              "      <td>0.0</td>\n",
              "      <td>0.0</td>\n",
              "      <td>0.0</td>\n",
              "      <td>0.0</td>\n",
              "      <td>0.0</td>\n",
              "      <td>0.0</td>\n",
              "    </tr>\n",
              "    <tr>\n",
              "      <th>...</th>\n",
              "      <td>...</td>\n",
              "      <td>...</td>\n",
              "      <td>...</td>\n",
              "      <td>...</td>\n",
              "      <td>...</td>\n",
              "      <td>...</td>\n",
              "      <td>...</td>\n",
              "      <td>...</td>\n",
              "      <td>...</td>\n",
              "      <td>...</td>\n",
              "      <td>...</td>\n",
              "      <td>...</td>\n",
              "      <td>...</td>\n",
              "      <td>...</td>\n",
              "      <td>...</td>\n",
              "      <td>...</td>\n",
              "      <td>...</td>\n",
              "      <td>...</td>\n",
              "      <td>...</td>\n",
              "      <td>...</td>\n",
              "      <td>...</td>\n",
              "    </tr>\n",
              "    <tr>\n",
              "      <th>1020</th>\n",
              "      <td>13.185826</td>\n",
              "      <td>-1.627805</td>\n",
              "      <td>13.185826</td>\n",
              "      <td>0.003051</td>\n",
              "      <td>0.648763</td>\n",
              "      <td>444.568</td>\n",
              "      <td>408.280</td>\n",
              "      <td>444.251189</td>\n",
              "      <td>176.0</td>\n",
              "      <td>0.0</td>\n",
              "      <td>...</td>\n",
              "      <td>0.0</td>\n",
              "      <td>0.0</td>\n",
              "      <td>0.0</td>\n",
              "      <td>0.0</td>\n",
              "      <td>0.0</td>\n",
              "      <td>0.0</td>\n",
              "      <td>0.0</td>\n",
              "      <td>0.0</td>\n",
              "      <td>0.0</td>\n",
              "      <td>0.0</td>\n",
              "    </tr>\n",
              "    <tr>\n",
              "      <th>1021</th>\n",
              "      <td>12.042248</td>\n",
              "      <td>-1.044559</td>\n",
              "      <td>12.042248</td>\n",
              "      <td>0.066834</td>\n",
              "      <td>0.410290</td>\n",
              "      <td>465.631</td>\n",
              "      <td>422.287</td>\n",
              "      <td>465.309038</td>\n",
              "      <td>188.0</td>\n",
              "      <td>0.0</td>\n",
              "      <td>...</td>\n",
              "      <td>0.0</td>\n",
              "      <td>0.0</td>\n",
              "      <td>0.0</td>\n",
              "      <td>0.0</td>\n",
              "      <td>0.0</td>\n",
              "      <td>0.0</td>\n",
              "      <td>0.0</td>\n",
              "      <td>0.0</td>\n",
              "      <td>0.0</td>\n",
              "      <td>0.0</td>\n",
              "    </tr>\n",
              "    <tr>\n",
              "      <th>1022</th>\n",
              "      <td>13.125689</td>\n",
              "      <td>-2.328350</td>\n",
              "      <td>13.125689</td>\n",
              "      <td>0.037157</td>\n",
              "      <td>0.574043</td>\n",
              "      <td>385.416</td>\n",
              "      <td>362.232</td>\n",
              "      <td>385.152537</td>\n",
              "      <td>148.0</td>\n",
              "      <td>0.0</td>\n",
              "      <td>...</td>\n",
              "      <td>0.0</td>\n",
              "      <td>0.0</td>\n",
              "      <td>0.0</td>\n",
              "      <td>0.0</td>\n",
              "      <td>0.0</td>\n",
              "      <td>0.0</td>\n",
              "      <td>0.0</td>\n",
              "      <td>0.0</td>\n",
              "      <td>0.0</td>\n",
              "      <td>0.0</td>\n",
              "    </tr>\n",
              "    <tr>\n",
              "      <th>1023</th>\n",
              "      <td>13.235654</td>\n",
              "      <td>-1.605971</td>\n",
              "      <td>13.235654</td>\n",
              "      <td>0.033093</td>\n",
              "      <td>0.619599</td>\n",
              "      <td>460.611</td>\n",
              "      <td>420.291</td>\n",
              "      <td>460.282489</td>\n",
              "      <td>184.0</td>\n",
              "      <td>0.0</td>\n",
              "      <td>...</td>\n",
              "      <td>0.0</td>\n",
              "      <td>0.0</td>\n",
              "      <td>0.0</td>\n",
              "      <td>0.0</td>\n",
              "      <td>0.0</td>\n",
              "      <td>0.0</td>\n",
              "      <td>0.0</td>\n",
              "      <td>0.0</td>\n",
              "      <td>0.0</td>\n",
              "      <td>0.0</td>\n",
              "    </tr>\n",
              "    <tr>\n",
              "      <th>1024</th>\n",
              "      <td>12.263757</td>\n",
              "      <td>-2.099513</td>\n",
              "      <td>12.263757</td>\n",
              "      <td>0.078936</td>\n",
              "      <td>0.156889</td>\n",
              "      <td>665.733</td>\n",
              "      <td>618.357</td>\n",
              "      <td>665.304741</td>\n",
              "      <td>262.0</td>\n",
              "      <td>0.0</td>\n",
              "      <td>...</td>\n",
              "      <td>0.0</td>\n",
              "      <td>0.0</td>\n",
              "      <td>0.0</td>\n",
              "      <td>0.0</td>\n",
              "      <td>0.0</td>\n",
              "      <td>0.0</td>\n",
              "      <td>0.0</td>\n",
              "      <td>0.0</td>\n",
              "      <td>0.0</td>\n",
              "      <td>0.0</td>\n",
              "    </tr>\n",
              "  </tbody>\n",
              "</table>\n",
              "<p>1025 rows × 208 columns</p>\n",
              "</div>\n",
              "    <div class=\"colab-df-buttons\">\n",
              "\n",
              "  <div class=\"colab-df-container\">\n",
              "    <button class=\"colab-df-convert\" onclick=\"convertToInteractive('df-e45ac28e-5df2-4f3b-8283-d3ad733cb2f8')\"\n",
              "            title=\"Convert this dataframe to an interactive table.\"\n",
              "            style=\"display:none;\">\n",
              "\n",
              "  <svg xmlns=\"http://www.w3.org/2000/svg\" height=\"24px\" viewBox=\"0 -960 960 960\">\n",
              "    <path d=\"M120-120v-720h720v720H120Zm60-500h600v-160H180v160Zm220 220h160v-160H400v160Zm0 220h160v-160H400v160ZM180-400h160v-160H180v160Zm440 0h160v-160H620v160ZM180-180h160v-160H180v160Zm440 0h160v-160H620v160Z\"/>\n",
              "  </svg>\n",
              "    </button>\n",
              "\n",
              "  <style>\n",
              "    .colab-df-container {\n",
              "      display:flex;\n",
              "      gap: 12px;\n",
              "    }\n",
              "\n",
              "    .colab-df-convert {\n",
              "      background-color: #E8F0FE;\n",
              "      border: none;\n",
              "      border-radius: 50%;\n",
              "      cursor: pointer;\n",
              "      display: none;\n",
              "      fill: #1967D2;\n",
              "      height: 32px;\n",
              "      padding: 0 0 0 0;\n",
              "      width: 32px;\n",
              "    }\n",
              "\n",
              "    .colab-df-convert:hover {\n",
              "      background-color: #E2EBFA;\n",
              "      box-shadow: 0px 1px 2px rgba(60, 64, 67, 0.3), 0px 1px 3px 1px rgba(60, 64, 67, 0.15);\n",
              "      fill: #174EA6;\n",
              "    }\n",
              "\n",
              "    .colab-df-buttons div {\n",
              "      margin-bottom: 4px;\n",
              "    }\n",
              "\n",
              "    [theme=dark] .colab-df-convert {\n",
              "      background-color: #3B4455;\n",
              "      fill: #D2E3FC;\n",
              "    }\n",
              "\n",
              "    [theme=dark] .colab-df-convert:hover {\n",
              "      background-color: #434B5C;\n",
              "      box-shadow: 0px 1px 3px 1px rgba(0, 0, 0, 0.15);\n",
              "      filter: drop-shadow(0px 1px 2px rgba(0, 0, 0, 0.3));\n",
              "      fill: #FFFFFF;\n",
              "    }\n",
              "  </style>\n",
              "\n",
              "    <script>\n",
              "      const buttonEl =\n",
              "        document.querySelector('#df-e45ac28e-5df2-4f3b-8283-d3ad733cb2f8 button.colab-df-convert');\n",
              "      buttonEl.style.display =\n",
              "        google.colab.kernel.accessAllowed ? 'block' : 'none';\n",
              "\n",
              "      async function convertToInteractive(key) {\n",
              "        const element = document.querySelector('#df-e45ac28e-5df2-4f3b-8283-d3ad733cb2f8');\n",
              "        const dataTable =\n",
              "          await google.colab.kernel.invokeFunction('convertToInteractive',\n",
              "                                                    [key], {});\n",
              "        if (!dataTable) return;\n",
              "\n",
              "        const docLinkHtml = 'Like what you see? Visit the ' +\n",
              "          '<a target=\"_blank\" href=https://colab.research.google.com/notebooks/data_table.ipynb>data table notebook</a>'\n",
              "          + ' to learn more about interactive tables.';\n",
              "        element.innerHTML = '';\n",
              "        dataTable['output_type'] = 'display_data';\n",
              "        await google.colab.output.renderOutput(dataTable, element);\n",
              "        const docLink = document.createElement('div');\n",
              "        docLink.innerHTML = docLinkHtml;\n",
              "        element.appendChild(docLink);\n",
              "      }\n",
              "    </script>\n",
              "  </div>\n",
              "\n",
              "\n",
              "<div id=\"df-b3d4be47-f0e4-4db2-9503-271de6e8429c\">\n",
              "  <button class=\"colab-df-quickchart\" onclick=\"quickchart('df-b3d4be47-f0e4-4db2-9503-271de6e8429c')\"\n",
              "            title=\"Suggest charts.\"\n",
              "            style=\"display:none;\">\n",
              "\n",
              "<svg xmlns=\"http://www.w3.org/2000/svg\" height=\"24px\"viewBox=\"0 0 24 24\"\n",
              "     width=\"24px\">\n",
              "    <g>\n",
              "        <path d=\"M19 3H5c-1.1 0-2 .9-2 2v14c0 1.1.9 2 2 2h14c1.1 0 2-.9 2-2V5c0-1.1-.9-2-2-2zM9 17H7v-7h2v7zm4 0h-2V7h2v10zm4 0h-2v-4h2v4z\"/>\n",
              "    </g>\n",
              "</svg>\n",
              "  </button>\n",
              "\n",
              "<style>\n",
              "  .colab-df-quickchart {\n",
              "      --bg-color: #E8F0FE;\n",
              "      --fill-color: #1967D2;\n",
              "      --hover-bg-color: #E2EBFA;\n",
              "      --hover-fill-color: #174EA6;\n",
              "      --disabled-fill-color: #AAA;\n",
              "      --disabled-bg-color: #DDD;\n",
              "  }\n",
              "\n",
              "  [theme=dark] .colab-df-quickchart {\n",
              "      --bg-color: #3B4455;\n",
              "      --fill-color: #D2E3FC;\n",
              "      --hover-bg-color: #434B5C;\n",
              "      --hover-fill-color: #FFFFFF;\n",
              "      --disabled-bg-color: #3B4455;\n",
              "      --disabled-fill-color: #666;\n",
              "  }\n",
              "\n",
              "  .colab-df-quickchart {\n",
              "    background-color: var(--bg-color);\n",
              "    border: none;\n",
              "    border-radius: 50%;\n",
              "    cursor: pointer;\n",
              "    display: none;\n",
              "    fill: var(--fill-color);\n",
              "    height: 32px;\n",
              "    padding: 0;\n",
              "    width: 32px;\n",
              "  }\n",
              "\n",
              "  .colab-df-quickchart:hover {\n",
              "    background-color: var(--hover-bg-color);\n",
              "    box-shadow: 0 1px 2px rgba(60, 64, 67, 0.3), 0 1px 3px 1px rgba(60, 64, 67, 0.15);\n",
              "    fill: var(--button-hover-fill-color);\n",
              "  }\n",
              "\n",
              "  .colab-df-quickchart-complete:disabled,\n",
              "  .colab-df-quickchart-complete:disabled:hover {\n",
              "    background-color: var(--disabled-bg-color);\n",
              "    fill: var(--disabled-fill-color);\n",
              "    box-shadow: none;\n",
              "  }\n",
              "\n",
              "  .colab-df-spinner {\n",
              "    border: 2px solid var(--fill-color);\n",
              "    border-color: transparent;\n",
              "    border-bottom-color: var(--fill-color);\n",
              "    animation:\n",
              "      spin 1s steps(1) infinite;\n",
              "  }\n",
              "\n",
              "  @keyframes spin {\n",
              "    0% {\n",
              "      border-color: transparent;\n",
              "      border-bottom-color: var(--fill-color);\n",
              "      border-left-color: var(--fill-color);\n",
              "    }\n",
              "    20% {\n",
              "      border-color: transparent;\n",
              "      border-left-color: var(--fill-color);\n",
              "      border-top-color: var(--fill-color);\n",
              "    }\n",
              "    30% {\n",
              "      border-color: transparent;\n",
              "      border-left-color: var(--fill-color);\n",
              "      border-top-color: var(--fill-color);\n",
              "      border-right-color: var(--fill-color);\n",
              "    }\n",
              "    40% {\n",
              "      border-color: transparent;\n",
              "      border-right-color: var(--fill-color);\n",
              "      border-top-color: var(--fill-color);\n",
              "    }\n",
              "    60% {\n",
              "      border-color: transparent;\n",
              "      border-right-color: var(--fill-color);\n",
              "    }\n",
              "    80% {\n",
              "      border-color: transparent;\n",
              "      border-right-color: var(--fill-color);\n",
              "      border-bottom-color: var(--fill-color);\n",
              "    }\n",
              "    90% {\n",
              "      border-color: transparent;\n",
              "      border-bottom-color: var(--fill-color);\n",
              "    }\n",
              "  }\n",
              "</style>\n",
              "\n",
              "  <script>\n",
              "    async function quickchart(key) {\n",
              "      const quickchartButtonEl =\n",
              "        document.querySelector('#' + key + ' button');\n",
              "      quickchartButtonEl.disabled = true;  // To prevent multiple clicks.\n",
              "      quickchartButtonEl.classList.add('colab-df-spinner');\n",
              "      try {\n",
              "        const charts = await google.colab.kernel.invokeFunction(\n",
              "            'suggestCharts', [key], {});\n",
              "      } catch (error) {\n",
              "        console.error('Error during call to suggestCharts:', error);\n",
              "      }\n",
              "      quickchartButtonEl.classList.remove('colab-df-spinner');\n",
              "      quickchartButtonEl.classList.add('colab-df-quickchart-complete');\n",
              "    }\n",
              "    (() => {\n",
              "      let quickchartButtonEl =\n",
              "        document.querySelector('#df-b3d4be47-f0e4-4db2-9503-271de6e8429c button');\n",
              "      quickchartButtonEl.style.display =\n",
              "        google.colab.kernel.accessAllowed ? 'block' : 'none';\n",
              "    })();\n",
              "  </script>\n",
              "</div>\n",
              "    </div>\n",
              "  </div>\n"
            ]
          },
          "metadata": {},
          "execution_count": 29
        }
      ]
    },
    {
      "cell_type": "code",
      "source": [
        "# Q5\n",
        "labels = [float(x.GetProp('SOL')) for x in molecule_list]"
      ],
      "metadata": {
        "id": "-YqVU1AFQlJ9"
      },
      "execution_count": null,
      "outputs": []
    },
    {
      "cell_type": "code",
      "metadata": {
        "id": "38SxXEj75DG6",
        "colab": {
          "base_uri": "https://localhost:8080/",
          "height": 431
        },
        "outputId": "22f25d45-d46f-48ae-8374-5ba387287bcc"
      },
      "source": [
        "# Q6\n",
        "plt.hist(labels)\n",
        "plt.show()"
      ],
      "execution_count": null,
      "outputs": [
        {
          "output_type": "display_data",
          "data": {
            "text/plain": [
              "<Figure size 640x480 with 1 Axes>"
            ],
            "image/png": "[encoded data removed]"
          },
          "metadata": {}
        }
      ]
    },
    {
      "cell_type": "markdown",
      "source": [
        "It looks like a gaussian distribution"
      ],
      "metadata": {
        "id": "JadCrd8BS648"
      }
    },
    {
      "cell_type": "markdown",
      "metadata": {
        "id": "KRtVHEjH5M9m"
      },
      "source": [
        "## Ex6.II Feature Engineering and Training a model of regression.\n",
        "\n",
        "Now, we have the **df** dataframe that contains the descriptors for molecules and the **labels** list that contains the solvant property of molecules.\n",
        "\n",
        "1. Check the dataframe **df** to see whether it contains NaN values. How many row contained NaN values are there in the dataframe **df** ? Remove these rows from  **df** and **labels**.\n",
        "\n",
        "\n",
        "2. Apply the MinMaxScaler to the dataframe **df** to normalize the data.\n",
        "\n",
        "\n",
        "3. Construct and train a regression model.\n",
        "\n",
        "\n",
        "4. Calculate the square root error for the dataset"
      ]
    },
    {
      "cell_type": "code",
      "metadata": {
        "id": "gWvfR-8x5H84",
        "colab": {
          "base_uri": "https://localhost:8080/",
          "height": 213
        },
        "outputId": "e6f50706-2209-42aa-dddf-fa4c8e34814a"
      },
      "source": [
        "# Q1\n",
        "\n",
        "print(f\"There are {len(df.index) - len(df.dropna().index)} rows that contain NaN values\")"
      ],
      "execution_count": 7,
      "outputs": [
        {
          "output_type": "error",
          "ename": "NameError",
          "evalue": "ignored",
          "traceback": [
            "\u001b[0;31m---------------------------------------------------------------------------\u001b[0m",
            "\u001b[0;31mNameError\u001b[0m                                 Traceback (most recent call last)",
            "\u001b[0;32m<ipython-input-7-396938e08a44>\u001b[0m in \u001b[0;36m<cell line: 3>\u001b[0;34m()\u001b[0m\n\u001b[1;32m      1\u001b[0m \u001b[0;31m# Q1\u001b[0m\u001b[0;34m\u001b[0m\u001b[0;34m\u001b[0m\u001b[0m\n\u001b[1;32m      2\u001b[0m \u001b[0;34m\u001b[0m\u001b[0m\n\u001b[0;32m----> 3\u001b[0;31m \u001b[0mprint\u001b[0m\u001b[0;34m(\u001b[0m\u001b[0;34mf\"There are {len(df.index) - len(df.dropna().index)} rows that contain NaN values\"\u001b[0m\u001b[0;34m)\u001b[0m\u001b[0;34m\u001b[0m\u001b[0;34m\u001b[0m\u001b[0m\n\u001b[0m",
            "\u001b[0;31mNameError\u001b[0m: name 'df' is not defined"
          ]
        }
      ]
    },
    {
      "cell_type": "code",
      "metadata": {
        "id": "GIogC40t5Tu8",
        "colab": {
          "base_uri": "https://localhost:8080/"
        },
        "outputId": "b8ee5ed2-1e73-4f36-d4b6-3705359b9676"
      },
      "source": [
        "new_labels = []\n",
        "for i in range(len(df.index)):\n",
        "    if df.iloc[i].hasnans:\n",
        "        print(f\"Deleting number {i}\")\n",
        "        continue\n",
        "    new_labels.append(labels[i])\n",
        "labels = new_labels\n",
        "\n",
        "df = df.dropna()"
      ],
      "execution_count": null,
      "outputs": [
        {
          "output_type": "stream",
          "name": "stdout",
          "text": [
            "Deleting number 985\n"
          ]
        }
      ]
    },
    {
      "cell_type": "code",
      "metadata": {
        "id": "rdzWDho25bAs",
        "colab": {
          "base_uri": "https://localhost:8080/",
          "height": 248
        },
        "outputId": "6c0a7205-b075-435f-a227-f70f6cf26d44"
      },
      "source": [
        "# Q2\n",
        "\n",
        "scaler = MinMaxScaler()\n",
        "scaler.fit(df)\n",
        "\n",
        "normalized_df = pd.DataFrame(columns = df.columns, data = scaler.transform(df))\n",
        "normalized_df"
      ],
      "execution_count": 5,
      "outputs": [
        {
          "output_type": "error",
          "ename": "NameError",
          "evalue": "ignored",
          "traceback": [
            "\u001b[0;31m---------------------------------------------------------------------------\u001b[0m",
            "\u001b[0;31mNameError\u001b[0m                                 Traceback (most recent call last)",
            "\u001b[0;32m<ipython-input-5-e7237a48ab68>\u001b[0m in \u001b[0;36m<cell line: 4>\u001b[0;34m()\u001b[0m\n\u001b[1;32m      2\u001b[0m \u001b[0;34m\u001b[0m\u001b[0m\n\u001b[1;32m      3\u001b[0m \u001b[0mscaler\u001b[0m \u001b[0;34m=\u001b[0m \u001b[0mMinMaxScaler\u001b[0m\u001b[0;34m(\u001b[0m\u001b[0;34m)\u001b[0m\u001b[0;34m\u001b[0m\u001b[0;34m\u001b[0m\u001b[0m\n\u001b[0;32m----> 4\u001b[0;31m \u001b[0mscaler\u001b[0m\u001b[0;34m.\u001b[0m\u001b[0mfit\u001b[0m\u001b[0;34m(\u001b[0m\u001b[0mdf\u001b[0m\u001b[0;34m)\u001b[0m\u001b[0;34m\u001b[0m\u001b[0;34m\u001b[0m\u001b[0m\n\u001b[0m\u001b[1;32m      5\u001b[0m \u001b[0;34m\u001b[0m\u001b[0m\n\u001b[1;32m      6\u001b[0m \u001b[0mnormalized_df\u001b[0m \u001b[0;34m=\u001b[0m \u001b[0mpd\u001b[0m\u001b[0;34m.\u001b[0m\u001b[0mDataFrame\u001b[0m\u001b[0;34m(\u001b[0m\u001b[0mcolumns\u001b[0m \u001b[0;34m=\u001b[0m \u001b[0mdf\u001b[0m\u001b[0;34m.\u001b[0m\u001b[0mcolumns\u001b[0m\u001b[0;34m,\u001b[0m \u001b[0mdata\u001b[0m \u001b[0;34m=\u001b[0m \u001b[0mscaler\u001b[0m\u001b[0;34m.\u001b[0m\u001b[0mtransform\u001b[0m\u001b[0;34m(\u001b[0m\u001b[0mdf\u001b[0m\u001b[0;34m)\u001b[0m\u001b[0;34m)\u001b[0m\u001b[0;34m\u001b[0m\u001b[0;34m\u001b[0m\u001b[0m\n",
            "\u001b[0;31mNameError\u001b[0m: name 'df' is not defined"
          ]
        }
      ]
    },
    {
      "cell_type": "code",
      "metadata": {
        "id": "WJR3jwY45nZ5",
        "colab": {
          "base_uri": "https://localhost:8080/",
          "height": 248
        },
        "outputId": "424b61c7-2e73-47bb-8184-6fbc9003ee1a"
      },
      "source": [
        "# Q3\n",
        "\n",
        "linear_ref = LinearRegression()\n",
        "linear_ref.fit(normalized_df, labels)\n",
        "\n",
        "np.sqrt(mean_squared_error(linear_ref.predict(normalized_df), labels))"
      ],
      "execution_count": 6,
      "outputs": [
        {
          "output_type": "error",
          "ename": "NameError",
          "evalue": "ignored",
          "traceback": [
            "\u001b[0;31m---------------------------------------------------------------------------\u001b[0m",
            "\u001b[0;31mNameError\u001b[0m                                 Traceback (most recent call last)",
            "\u001b[0;32m<ipython-input-6-e422c7b237f4>\u001b[0m in \u001b[0;36m<cell line: 4>\u001b[0;34m()\u001b[0m\n\u001b[1;32m      2\u001b[0m \u001b[0;34m\u001b[0m\u001b[0m\n\u001b[1;32m      3\u001b[0m \u001b[0mlinear_ref\u001b[0m \u001b[0;34m=\u001b[0m \u001b[0mLinearRegression\u001b[0m\u001b[0;34m(\u001b[0m\u001b[0;34m)\u001b[0m\u001b[0;34m\u001b[0m\u001b[0;34m\u001b[0m\u001b[0m\n\u001b[0;32m----> 4\u001b[0;31m \u001b[0mlinear_ref\u001b[0m\u001b[0;34m.\u001b[0m\u001b[0mfit\u001b[0m\u001b[0;34m(\u001b[0m\u001b[0mnormalized_df\u001b[0m\u001b[0;34m,\u001b[0m \u001b[0mlabels\u001b[0m\u001b[0;34m)\u001b[0m\u001b[0;34m\u001b[0m\u001b[0;34m\u001b[0m\u001b[0m\n\u001b[0m\u001b[1;32m      5\u001b[0m \u001b[0;34m\u001b[0m\u001b[0m\n\u001b[1;32m      6\u001b[0m \u001b[0mnp\u001b[0m\u001b[0;34m.\u001b[0m\u001b[0msqrt\u001b[0m\u001b[0;34m(\u001b[0m\u001b[0mmean_squared_error\u001b[0m\u001b[0;34m(\u001b[0m\u001b[0mlinear_ref\u001b[0m\u001b[0;34m.\u001b[0m\u001b[0mpredict\u001b[0m\u001b[0;34m(\u001b[0m\u001b[0mnormalized_df\u001b[0m\u001b[0;34m)\u001b[0m\u001b[0;34m,\u001b[0m \u001b[0mlabels\u001b[0m\u001b[0;34m)\u001b[0m\u001b[0;34m)\u001b[0m\u001b[0;34m\u001b[0m\u001b[0;34m\u001b[0m\u001b[0m\n",
            "\u001b[0;31mNameError\u001b[0m: name 'normalized_df' is not defined"
          ]
        }
      ]
    },
    {
      "cell_type": "markdown",
      "metadata": {
        "id": "kESW-Pem5zPX"
      },
      "source": [
        "## Ex6.III Prepare data for test  and test model\n",
        "\n",
        "\n",
        "1. Download file from \"https://github.com/rdkit/rdkit/blob/master/Docs/Book/data/solubility.test.sdf\".\n",
        "\n",
        "2. Read molecules from this file and store them in a list named **list_molecule_test**.\n",
        "\n",
        "\n",
        "3. Take a molecule from the **list_molecule_test** and then calculate its descriptions thank to the **calculate_descriptors(mol)** function that you've coded above.\n",
        "\n",
        "\n",
        "4. Apply **minmaxscaler** to these descriptors. Note that **minmaxscaler**  is one that you've created at Ex6.II.\n",
        "\n",
        "\n",
        "5. Use the model that you've trained to predict the aqueous solubility (logS) of the molecule. Compare to the real logS value of the molecule.\n",
        "\n",
        "6. (Optional) Calculate the mean square root error of the model for this dataset.\n",
        "\n",
        "\n",
        "\n",
        "Note: If there exists problem of reading the file solubility.test.sdf as\n",
        "\"RDKit ERROR: [09:28:36] ERROR: moving to the beginning of the next molecule\n",
        "RDKit ERROR: [09:32:48] ERROR: Counts line too short: '' on line4\"\n",
        "so, go to the url, click \"raw\" and save this file by hand. The error will be gone away\n"
      ]
    },
    {
      "cell_type": "code",
      "metadata": {
        "id": "SMo-oKP-Rhv-",
        "colab": {
          "base_uri": "https://localhost:8080/"
        },
        "outputId": "d03195a2-ba14-4d00-8682-143a75ba86e6"
      },
      "source": [
        "# Q1\n",
        "!wget https://github.com/rdkit/rdkit/blob/master/Docs/Book/data/solubility.test.sdf"
      ],
      "execution_count": null,
      "outputs": [
        {
          "output_type": "stream",
          "name": "stdout",
          "text": [
            "--2023-09-20 22:00:32--  https://github.com/rdkit/rdkit/blob/master/Docs/Book/data/solubility.test.sdf\n",
            "Resolving github.com (github.com)... 140.82.113.3\n",
            "Connecting to github.com (github.com)|140.82.113.3|:443... connected.\n",
            "HTTP request sent, awaiting response... 200 OK\n",
            "Length: 327938 (320K) [text/plain]\n",
            "Saving to: ‘solubility.test.sdf.4’\n",
            "\n",
            "solubility.test.sdf 100%[===================>] 320.25K  1.03MB/s    in 0.3s    \n",
            "\n",
            "2023-09-20 22:00:33 (1.03 MB/s) - ‘solubility.test.sdf.4’ saved [327938/327938]\n",
            "\n"
          ]
        }
      ]
    },
    {
      "cell_type": "code",
      "metadata": {
        "id": "NPY8dEJs5v1x"
      },
      "source": [
        "# Q2\n",
        "list_molecule_test = rdkit.Chem.SDMolSupplier(\"solubility.test.sdf\", removeHs=False)"
      ],
      "execution_count": null,
      "outputs": []
    },
    {
      "cell_type": "code",
      "metadata": {
        "id": "Ni3z7j7G561j"
      },
      "source": [
        "# Q3\n",
        "mol = list_molecule_test[0]\n",
        "data = calculate_descriptors(mol)\n",
        "\n",
        "label = mol.GetProp('SOL')"
      ],
      "execution_count": null,
      "outputs": []
    },
    {
      "cell_type": "code",
      "metadata": {
        "id": "vauBuC-R66GF",
        "colab": {
          "base_uri": "https://localhost:8080/"
        },
        "outputId": "72fccd2b-4187-47aa-b6c5-9f14b83a1928"
      },
      "source": [
        "# Q4\n",
        "scaled_data = scaler.transform([data])"
      ],
      "execution_count": null,
      "outputs": [
        {
          "output_type": "stream",
          "name": "stderr",
          "text": [
            "/usr/local/lib/python3.10/dist-packages/sklearn/base.py:439: UserWarning: X does not have valid feature names, but MinMaxScaler was fitted with feature names\n",
            "  warnings.warn(\n"
          ]
        }
      ]
    },
    {
      "cell_type": "code",
      "source": [
        "# Q5\n",
        "pred = linear_ref.predict(scaled_data)\n",
        "pred[0] - float(label)"
      ],
      "metadata": {
        "colab": {
          "base_uri": "https://localhost:8080/"
        },
        "id": "-Z04cGQ_lBui",
        "outputId": "baf4a342-6953-4a45-a246-4404e781ee41"
      },
      "execution_count": null,
      "outputs": [
        {
          "output_type": "stream",
          "name": "stderr",
          "text": [
            "/usr/local/lib/python3.10/dist-packages/sklearn/base.py:439: UserWarning: X does not have valid feature names, but LinearRegression was fitted with feature names\n",
            "  warnings.warn(\n"
          ]
        },
        {
          "output_type": "execute_result",
          "data": {
            "text/plain": [
              "0.28569763183593766"
            ]
          },
          "metadata": {},
          "execution_count": 42
        }
      ]
    },
    {
      "cell_type": "code",
      "source": [],
      "metadata": {
        "id": "T3zXs4pHm6I7"
      },
      "execution_count": null,
      "outputs": []
    }
  ]
}