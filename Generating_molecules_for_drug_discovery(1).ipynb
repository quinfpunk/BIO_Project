{
  "cells": [
    {
      "cell_type": "markdown",
      "metadata": {
        "id": "7YhDx0Tsyyhd"
      },
      "source": [
        "# RNN Based molucule generation\n",
        "\n",
        "Laurent Cetinsoy\n",
        "\n",
        "In this hands-on we want to generate molecule formulas for denovo-drug discovery.\n",
        "\n",
        "For that we need to use Generative models. Generative models are models which goes beyond classification or simple regression : they are able to generate data that look like previously seens dataset.\n",
        "\n",
        "There exists a lot of models :\n",
        "\n",
        "- Bayesian models like graphical models\n",
        "- Recurrent models (for sequence generation like texte)\n",
        "- Variational auto encoders\n",
        "- Generative adversarial models\n",
        "- Flow and diffusion models\n",
        "\n",
        "\n",
        "In the hands-on we will start by  trainning a character based RNN to generate smile molecules\n",
        "\n",
        "\n",
        "We want to feed smile representations of molecules to an RNN.\n",
        "The basic idea is we will train it to predict the next smile token of a molecule given the previous one.\n",
        "\n",
        "For instance for the following molecule \"CC(=O)NC1=CC=C(O)C=C1\" will may give to the model\n",
        "\n",
        "X = \"CC(=O)N\"\n",
        "y = C\n",
        "\n",
        "and ask the RNN to learn to predict y given X\n",
        "\n",
        "Like a standard language model !\n"
      ]
    },
    {
      "cell_type": "markdown",
      "metadata": {
        "id": "c-Que9IFyyhk"
      },
      "source": [
        "## RNN Language model\n",
        "\n",
        "\n",
        "A language model is a model which predict the next token of a sequence given the previous ones :\n",
        "\n",
        "$ P(X_t | X_{t-1}, X_{t-2}, ..., X_{t-p})  $\n",
        "\n",
        "\n",
        "This model can be learned with a Recurrent neural network\n",
        "\n",
        "$ y = P(X_t | X_{t-1}, X_{t-2}, ..., X_{t-p}) = RNN_{\\theta} (X_{t-1}, X_{t-2}, ..., X_{t-p})  $\n",
        "\n",
        "\n",
        "In order to train such model you need a corpus of data.\n",
        "\n",
        "\n",
        "\n",
        "There are two main ways to do that : Word level model or character level model\n",
        "\n",
        "For character level models, an interesting resource is : http://karpathy.github.io/2015/05/21/rnn-effectiveness/\n",
        "\n"
      ]
    },
    {
      "cell_type": "markdown",
      "metadata": {
        "id": "ZaSGBHWXyyhm"
      },
      "source": [
        "Explain briefly what is the difference between word based language model and character based language model"
      ]
    },
    {
      "cell_type": "markdown",
      "metadata": {
        "id": "7c3FB6X4yyhn"
      },
      "source": [
        "Word based language models generate text one word at a time. They are typically good to generate coherent text. On the other hand, character based models operate on character level and thus don't need to rely on a predefined vocabulary. This makes them more flexible but they tend to generate less coherent text."
      ]
    },
    {
      "cell_type": "markdown",
      "metadata": {
        "id": "WU_SbWlJyyhn"
      },
      "source": [
        "## Loading the data"
      ]
    },
    {
      "cell_type": "markdown",
      "metadata": {
        "id": "9CAnQcj3yyho"
      },
      "source": [
        "Dowload the following dataset : https://github.com/joeymach/Leveraging-VAE-to-generate-molecules"
      ]
    },
    {
      "cell_type": "markdown",
      "metadata": {
        "id": "nyvW9PMyyyhr"
      },
      "source": [
        "Import pandas and load the first 1000 lines"
      ]
    },
    {
      "cell_type": "code",
      "execution_count": 8,
      "metadata": {
        "id": "p2FuRl15yyhr",
        "colab": {
          "base_uri": "https://localhost:8080/"
        },
        "outputId": "8f79b64c-01b8-40c5-e169-3c4cc0a51826"
      },
      "outputs": [
        {
          "output_type": "execute_result",
          "data": {
            "text/plain": [
              "(379, 3)"
            ]
          },
          "metadata": {},
          "execution_count": 8
        }
      ],
      "source": [
        "import pandas as pd\n",
        "\n",
        "df = pd.read_csv('active_data.csv', nrows=1_000)"
      ]
    },
    {
      "cell_type": "markdown",
      "metadata": {
        "id": "gO3XWPQMyyhs"
      },
      "source": [
        "Display the first rows of the dataframe"
      ]
    },
    {
      "cell_type": "code",
      "execution_count": 38,
      "metadata": {
        "id": "zjQ6_NK3yyht",
        "colab": {
          "base_uri": "https://localhost:8080/"
        },
        "outputId": "f1488d66-a615-424d-adb6-8c451296f143"
      },
      "outputs": [
        {
          "output_type": "execute_result",
          "data": {
            "text/plain": [
              "SMILES       Cn1ccnc1Sc2ccc(cc2Cl)Nc3c4cc(c(cc4ncc3C#N)OCCC...\n",
              "ID                                                      168691\n",
              "is_active                                                    1\n",
              "Name: 0, dtype: object"
            ]
          },
          "metadata": {},
          "execution_count": 38
        }
      ],
      "source": [
        "df.iloc[0]"
      ]
    },
    {
      "cell_type": "markdown",
      "metadata": {
        "id": "VfyMV4QXyyhu"
      },
      "source": [
        "## Processing the data\n",
        "\n",
        "We need to do the following things :\n",
        "\n",
        "- convert smile tokens to numbers\n",
        "- build  smile token sequences and corresponding labels pairs"
      ]
    },
    {
      "cell_type": "markdown",
      "metadata": {
        "id": "C-wwZXCOyyhu"
      },
      "source": [
        "Compute the biggest smile molecule size"
      ]
    },
    {
      "cell_type": "code",
      "execution_count": 35,
      "metadata": {
        "id": "FMkUcyH3yyhv",
        "colab": {
          "base_uri": "https://localhost:8080/"
        },
        "outputId": "6284b3cc-f993-4a08-bf0e-8506761292b9"
      },
      "outputs": [
        {
          "output_type": "execute_result",
          "data": {
            "text/plain": [
              "92"
            ]
          },
          "metadata": {},
          "execution_count": 35
        }
      ],
      "source": [
        "biggest = df['SMILES'].str.len().max()\n",
        "biggest"
      ]
    },
    {
      "cell_type": "markdown",
      "metadata": {
        "id": "7WrIDz_cyyhv"
      },
      "source": [
        "\n",
        "Code a function **unic_characters(string)** which return the unique characters in a string\n"
      ]
    },
    {
      "cell_type": "code",
      "execution_count": 12,
      "metadata": {
        "id": "alXR3qcHyyhw"
      },
      "outputs": [],
      "source": [
        "import numpy as np\n",
        "\n",
        "def unic_characters(string: str):\n",
        "    return np.unique(list(string))"
      ]
    },
    {
      "cell_type": "markdown",
      "metadata": {
        "id": "4DITuFSeyyhx"
      },
      "source": [
        "Concatenate all smile string of the pandas dataframe and use **unic_characters** to get the unic_characters"
      ]
    },
    {
      "cell_type": "code",
      "execution_count": 14,
      "metadata": {
        "id": "Pweel8bxyyhx",
        "colab": {
          "base_uri": "https://localhost:8080/"
        },
        "outputId": "a4abb6ed-93d6-4f14-d44d-ab6b93af26a5"
      },
      "outputs": [
        {
          "output_type": "execute_result",
          "data": {
            "text/plain": [
              "array(['#', '(', ')', '+', '-', '/', '1', '2', '3', '4', '5', '6', '7',\n",
              "       '8', '=', '@', 'B', 'C', 'F', 'H', 'I', 'N', 'O', 'P', 'S', '[',\n",
              "       '\\\\', ']', 'c', 'l', 'n', 'o', 'r', 's'], dtype='<U1')"
            ]
          },
          "metadata": {},
          "execution_count": 14
        }
      ],
      "source": [
        "all_smiles = df['SMILES'].str.cat()\n",
        "unique_characters = unic_characters(all_smiles)\n",
        "unique_characters"
      ]
    },
    {
      "cell_type": "markdown",
      "metadata": {
        "id": "LXmrYw-nyyhy"
      },
      "source": [
        "Code a function **map_char_to_int(unic_chars)** which returns a dictionnary where each char is assigned an int value.\n",
        "Add a character to specify the end of the molecule (like \"\\n\")\n"
      ]
    },
    {
      "cell_type": "code",
      "execution_count": 15,
      "metadata": {
        "id": "7_AHpX3HPPqO"
      },
      "outputs": [],
      "source": [
        "END_TOKEN = '\\n'"
      ]
    },
    {
      "cell_type": "code",
      "execution_count": 16,
      "metadata": {
        "id": "dPvQzt1Oyyhy"
      },
      "outputs": [],
      "source": [
        "def map_char_to_int(unic_chars) -> dict[str, int]:\n",
        "    mapping = {c: i for i, c in enumerate(unic_chars)}\n",
        "    mapping[END_TOKEN] = len(mapping)\n",
        "    return mapping"
      ]
    },
    {
      "cell_type": "markdown",
      "metadata": {
        "id": "GbrgQmRgyyhz"
      },
      "source": [
        "Code a function map_int_to_char(unic_chars) which returns the reverse mapping.\n",
        "\n",
        "If you want you can merge both functions in a class"
      ]
    },
    {
      "cell_type": "code",
      "execution_count": 17,
      "metadata": {
        "id": "mX3883sYyyh0"
      },
      "outputs": [],
      "source": [
        "class CharMapper:\n",
        "    def __init__(self, unique_chars: set[str]):\n",
        "        self._mapping = map_char_to_int(unique_chars)\n",
        "        self._reverse_mapping = {v: k for k, v in self._mapping.items()}\n",
        "\n",
        "    def __len__(self) -> int:\n",
        "        return len(self._mapping)\n",
        "\n",
        "    def char_to_int(self, string: str) -> list[int]:\n",
        "        return [self._mapping[char] for char in string]\n",
        "\n",
        "    def int_to_char(self, integers: int | list[int]) -> str:\n",
        "        if isinstance(integers, int):\n",
        "            return self._reverse_mapping[integers]\n",
        "        return ''.join([self._reverse_mapping[i] for i in integers])"
      ]
    },
    {
      "cell_type": "markdown",
      "metadata": {
        "id": "1etZs7T3yyh1"
      },
      "source": [
        "For each smile molecule add the ending token to it"
      ]
    },
    {
      "cell_type": "code",
      "execution_count": 18,
      "metadata": {
        "colab": {
          "base_uri": "https://localhost:8080/",
          "height": 34
        },
        "id": "oKNOXPI-PPqQ",
        "outputId": "1bc3cceb-7cb1-4e3b-eebf-18eae95b09da"
      },
      "outputs": [
        {
          "output_type": "execute_result",
          "data": {
            "text/plain": [
              "'Cn1ccnc1Sc2ccc(cc2Cl)Nc3c4cc(c(cc4ncc3C#N)OCCCN5CCOCC5)OC\\n\\n\\n\\n\\n\\n\\n\\n\\n\\n\\n\\n\\n\\n\\n\\n\\n\\n\\n\\n\\n\\n\\n\\n\\n\\n\\n\\n\\n\\n\\n\\n\\n\\n\\n'"
            ],
            "application/vnd.google.colaboratory.intrinsic+json": {
              "type": "string"
            }
          },
          "metadata": {},
          "execution_count": 18
        }
      ],
      "source": [
        "df['SMILES'] = df['SMILES'].str.pad(width=biggest, side='right', fillchar=END_TOKEN)"
      ]
    },
    {
      "cell_type": "markdown",
      "metadata": {
        "id": "QpuIn5z1yyh2"
      },
      "source": [
        "## Building the dataset\n",
        "\n",
        "Now we will create the dataset so that it has the good share for our Keras LSTM model\n",
        "\n",
        "Remember Keras recurrent models expect a 3D array with shapes (n_examples, seq_len, n_features)\n",
        "\n"
      ]
    },
    {
      "cell_type": "markdown",
      "metadata": {
        "id": "ldUup-_Qyyh2"
      },
      "source": [
        "What will be n_features in our case ?"
      ]
    },
    {
      "cell_type": "markdown",
      "metadata": {
        "id": "90SP7KoTyyh3"
      },
      "source": [
        "In our case, `n_features` will be the number of unique characters in our dataset."
      ]
    },
    {
      "cell_type": "markdown",
      "metadata": {
        "id": "Jwkwafxdyyh4"
      },
      "source": [
        "Code a function **build_X_and_y(string, i_char, seq_lenght)** which takes a string, a **seq_length** number and a position.\n",
        "\n",
        "\n",
        "It should create X by by getting all character between i and i + seq_length\n",
        "and create y by getting the character following the X sequence\n",
        "it returns X and y"
      ]
    },
    {
      "cell_type": "code",
      "execution_count": 19,
      "metadata": {
        "id": "l181_uZ_PPqS"
      },
      "outputs": [],
      "source": [
        "def build_X_and_y(string, i_char, seq_length):\n",
        "    end_char = i_char + seq_length\n",
        "    X = string[i_char:end_char]\n",
        "    y = string[end_char]\n",
        "    return X, y"
      ]
    },
    {
      "cell_type": "markdown",
      "metadata": {
        "id": "PfRJ_Lpkyyh4"
      },
      "source": [
        "Test your function on the following string \"Lorem ipsum\" with seq_length = 4 and i = [1, 2, 3]"
      ]
    },
    {
      "cell_type": "code",
      "execution_count": 20,
      "metadata": {
        "id": "ToDrNcT8yyh5",
        "colab": {
          "base_uri": "https://localhost:8080/"
        },
        "outputId": "37f0a640-ff95-4d3c-a006-41db3d9fab0f"
      },
      "outputs": [
        {
          "output_type": "stream",
          "name": "stdout",
          "text": [
            "X: orem -> y: ' '\n",
            "X: rem  -> y: 'i'\n",
            "X: em i -> y: 'p'\n"
          ]
        }
      ],
      "source": [
        "string = 'Lorem ipsum'\n",
        "for i in (1, 2, 3):\n",
        "    X, y = build_X_and_y(string, i, 4)\n",
        "    print(f\"X: {X} -> y: '{y}'\")"
      ]
    },
    {
      "cell_type": "markdown",
      "metadata": {
        "id": "y9DdyLSUyyh5"
      },
      "source": [
        "By using build_X_and_y and map_char_to_int build a list nameed X_train and a list named y_train"
      ]
    },
    {
      "cell_type": "code",
      "execution_count": 22,
      "metadata": {
        "id": "xRb61XzXyyh6"
      },
      "outputs": [],
      "source": [
        "SEQUENCE_LENGTH = 10\n",
        "mapper = CharMapper(unique_characters)\n",
        "\n",
        "X_train = []\n",
        "y_train = []\n",
        "\n",
        "for smiles in df['SMILES']:\n",
        "    for i in range(len(smiles) - SEQUENCE_LENGTH):\n",
        "        X, y = build_X_and_y(smiles, i, SEQUENCE_LENGTH)\n",
        "        if X.endswith(END_TOKEN):\n",
        "            break\n",
        "        X_train.append(mapper.char_to_int(X))\n",
        "        y_train.append(mapper.char_to_int(y))"
      ]
    },
    {
      "cell_type": "markdown",
      "metadata": {
        "id": "fubbPe7Vyyh6"
      },
      "source": [
        "Create numpy arrays from the lists"
      ]
    },
    {
      "cell_type": "code",
      "execution_count": 34,
      "metadata": {
        "id": "il1hbrsbyyh7"
      },
      "outputs": [],
      "source": [
        "from keras.utils import to_categorical\n",
        "\n",
        "X_train = np.array(X_train)\n",
        "y_train = to_categorical(y_train, num_classes=len(mapper) + 1)"
      ]
    },
    {
      "cell_type": "markdown",
      "metadata": {
        "id": "Wb5Y3ERkyyh8"
      },
      "source": [
        "Reshape the X numpy array (n_examples, seq_lenght, 1)"
      ]
    },
    {
      "cell_type": "code",
      "execution_count": 24,
      "metadata": {
        "id": "T6mf5a4Dyyh8",
        "colab": {
          "base_uri": "https://localhost:8080/"
        },
        "outputId": "32aa910c-54bc-4958-f7b7-11095ad9166c"
      },
      "outputs": [
        {
          "output_type": "execute_result",
          "data": {
            "text/plain": [
              "(16318, 10, 1)"
            ]
          },
          "metadata": {},
          "execution_count": 24
        }
      ],
      "source": [
        "X_train = X_train.reshape(-1, SEQUENCE_LENGTH, 1)\n",
        "X_train.shape"
      ]
    },
    {
      "cell_type": "markdown",
      "metadata": {
        "id": "l7x4U0tCyyh9"
      },
      "source": [
        "Normalize X by dividing each values by the total number of unic characters"
      ]
    },
    {
      "cell_type": "code",
      "execution_count": 25,
      "metadata": {
        "id": "lHTjPnv4yyh9"
      },
      "outputs": [],
      "source": [
        "X_train_normalized = X_train / len(mapper)"
      ]
    },
    {
      "cell_type": "markdown",
      "metadata": {
        "id": "iWnIpi2uyyh9"
      },
      "source": [
        "Import Keras and build (at least) a two layered LSTM network with 128 neurone in each.\n",
        "\n",
        "You can also add Dropoutlayers\n",
        "\n",
        "Do you think you should use the return_sequences = True ? If yes, when ?\n",
        "\n",
        "\n",
        "Add a Dense layer on top with with the appropriate activation function and number of neurones\n"
      ]
    },
    {
      "cell_type": "code",
      "execution_count": 26,
      "metadata": {
        "id": "9a0Vz4L8yyiM"
      },
      "outputs": [],
      "source": [
        "from keras.models import Sequential\n",
        "from keras.layers import LSTM, Dense, Dropout\n",
        "\n",
        "model = Sequential([\n",
        "    LSTM(256, input_shape=(X_train.shape[1], X_train.shape[2]), return_sequences=True),\n",
        "    Dropout(0.2),\n",
        "    LSTM(256, return_sequences=True),\n",
        "    Dropout(0.2),\n",
        "    LSTM(256),\n",
        "    Dropout(0.2),\n",
        "    Dense(y_train.shape[1], activation='softmax'),\n",
        "])"
      ]
    },
    {
      "cell_type": "markdown",
      "metadata": {
        "id": "q1cAV53EyyiN"
      },
      "source": [
        "Compile the model with the appropriate loss function and the adam optimizer"
      ]
    },
    {
      "cell_type": "code",
      "execution_count": 27,
      "metadata": {
        "id": "6q2XpZQ4yyiO",
        "colab": {
          "base_uri": "https://localhost:8080/"
        },
        "outputId": "c60e853d-f93a-4b40-d7a4-299dd9734e50"
      },
      "outputs": [
        {
          "output_type": "stream",
          "name": "stdout",
          "text": [
            "Model: \"sequential\"\n",
            "_________________________________________________________________\n",
            " Layer (type)                Output Shape              Param #   \n",
            "=================================================================\n",
            " lstm (LSTM)                 (None, 10, 256)           264192    \n",
            "                                                                 \n",
            " dropout (Dropout)           (None, 10, 256)           0         \n",
            "                                                                 \n",
            " lstm_1 (LSTM)               (None, 10, 256)           525312    \n",
            "                                                                 \n",
            " dropout_1 (Dropout)         (None, 10, 256)           0         \n",
            "                                                                 \n",
            " lstm_2 (LSTM)               (None, 256)               525312    \n",
            "                                                                 \n",
            " dropout_2 (Dropout)         (None, 256)               0         \n",
            "                                                                 \n",
            " dense (Dense)               (None, 36)                9252      \n",
            "                                                                 \n",
            "=================================================================\n",
            "Total params: 1324068 (5.05 MB)\n",
            "Trainable params: 1324068 (5.05 MB)\n",
            "Non-trainable params: 0 (0.00 Byte)\n",
            "_________________________________________________________________\n"
          ]
        }
      ],
      "source": [
        "model.compile(\n",
        "    loss='categorical_crossentropy',\n",
        "    optimizer='adam',\n",
        ")\n",
        "model.summary()"
      ]
    },
    {
      "cell_type": "markdown",
      "metadata": {
        "id": "ZIq8gdLyyyiP"
      },
      "source": [
        "Train the model on 20 epochs and 10 examples (yeah you read correctly) and check that the model overfits !"
      ]
    },
    {
      "cell_type": "code",
      "execution_count": 29,
      "metadata": {
        "id": "7Qm3jXR7yyiP",
        "colab": {
          "base_uri": "https://localhost:8080/",
          "height": 1000
        },
        "outputId": "6fbd99b0-05a8-4c34-f189-1ace5528169b"
      },
      "outputs": [
        {
          "output_type": "stream",
          "name": "stdout",
          "text": [
            "Epoch 1/20\n",
            "1/1 [==============================] - 0s 193ms/step - loss: 1.3242 - val_loss: 2.8430\n",
            "Epoch 2/20\n",
            "1/1 [==============================] - 0s 232ms/step - loss: 1.2508 - val_loss: 2.9863\n",
            "Epoch 3/20\n",
            "1/1 [==============================] - 0s 239ms/step - loss: 1.2473 - val_loss: 3.2425\n",
            "Epoch 4/20\n",
            "1/1 [==============================] - 0s 198ms/step - loss: 1.1780 - val_loss: 3.5961\n",
            "Epoch 5/20\n",
            "1/1 [==============================] - 0s 260ms/step - loss: 1.1246 - val_loss: 4.0199\n",
            "Epoch 6/20\n",
            "1/1 [==============================] - 0s 214ms/step - loss: 1.0938 - val_loss: 4.4552\n",
            "Epoch 7/20\n",
            "1/1 [==============================] - 0s 170ms/step - loss: 0.9675 - val_loss: 4.8868\n",
            "Epoch 8/20\n",
            "1/1 [==============================] - 0s 325ms/step - loss: 1.0324 - val_loss: 5.3053\n",
            "Epoch 9/20\n",
            "1/1 [==============================] - 0s 236ms/step - loss: 1.0158 - val_loss: 5.6713\n",
            "Epoch 10/20\n",
            "1/1 [==============================] - 0s 212ms/step - loss: 0.8947 - val_loss: 5.9774\n",
            "Epoch 11/20\n",
            "1/1 [==============================] - 0s 216ms/step - loss: 0.9042 - val_loss: 6.2415\n",
            "Epoch 12/20\n",
            "1/1 [==============================] - 0s 197ms/step - loss: 0.9989 - val_loss: 6.4666\n",
            "Epoch 13/20\n",
            "1/1 [==============================] - 0s 266ms/step - loss: 0.8183 - val_loss: 6.6560\n",
            "Epoch 14/20\n",
            "1/1 [==============================] - 0s 147ms/step - loss: 0.7905 - val_loss: 6.8631\n",
            "Epoch 15/20\n",
            "1/1 [==============================] - 0s 120ms/step - loss: 0.9034 - val_loss: 7.0428\n",
            "Epoch 16/20\n",
            "1/1 [==============================] - 0s 135ms/step - loss: 1.0437 - val_loss: 7.2117\n",
            "Epoch 17/20\n",
            "1/1 [==============================] - 0s 116ms/step - loss: 1.0908 - val_loss: 7.3731\n",
            "Epoch 18/20\n",
            "1/1 [==============================] - 0s 126ms/step - loss: 0.8904 - val_loss: 7.5316\n",
            "Epoch 19/20\n",
            "1/1 [==============================] - 0s 135ms/step - loss: 0.9409 - val_loss: 7.6778\n",
            "Epoch 20/20\n",
            "1/1 [==============================] - 0s 132ms/step - loss: 0.9446 - val_loss: 7.8312\n"
          ]
        },
        {
          "output_type": "display_data",
          "data": {
            "text/plain": [
              "<Figure size 640x480 with 1 Axes>"
            ],
            "image/png": "[encoded data removed]"
          },
          "metadata": {}
        }
      ],
      "source": [
        "import matplotlib.pyplot as plt\n",
        "\n",
        "N_EXAMPLES = 10\n",
        "\n",
        "model.fit(\n",
        "    x=X_train_normalized[:N_EXAMPLES],\n",
        "    y=y_train[:N_EXAMPLES],\n",
        "    epochs=20,\n",
        "    validation_split=0.2,\n",
        ")\n",
        "\n",
        "plt.plot(model.history.history['loss'], label='loss')\n",
        "plt.plot(model.history.history['val_loss'], label='val_loss')\n",
        "plt.show()"
      ]
    },
    {
      "cell_type": "markdown",
      "metadata": {
        "id": "ufZ4AouKPPqW"
      },
      "source": [
        "The validation loss is well above the training loss at the end of the training. This is a clear sign of overfitting."
      ]
    },
    {
      "cell_type": "markdown",
      "metadata": {
        "id": "BMCFxz-wyyiR"
      },
      "source": [
        "Create a function **make_prediction(seed_start)** which takes a starting string sequence and uses it to generate a molecule\n"
      ]
    },
    {
      "cell_type": "code",
      "execution_count": 30,
      "metadata": {
        "id": "ulAAk9plyyiS"
      },
      "outputs": [],
      "source": [
        "def make_prediction(seed_start, mapper, model, max_len = 100):\n",
        "    prediction = None\n",
        "    seed_start = seed_start.rjust(SEQUENCE_LENGTH, END_TOKEN)\n",
        "    while prediction != END_TOKEN and len(seed_start) < max_len:\n",
        "        X = np.array(mapper.char_to_int(seed_start)).reshape(1, -1, 1)\n",
        "        X = X[:, -SEQUENCE_LENGTH::, :]\n",
        "        X = X / len(mapper)\n",
        "        y_pred = model(X)\n",
        "        prediction = mapper.int_to_char([np.argmax(y_pred)])\n",
        "        seed_start += prediction\n",
        "\n",
        "    return seed_start.lstrip(END_TOKEN)"
      ]
    },
    {
      "cell_type": "markdown",
      "metadata": {
        "id": "cHb0mnp5yyiS"
      },
      "source": [
        "generate a molecule of your overfitted model"
      ]
    },
    {
      "cell_type": "code",
      "execution_count": 31,
      "metadata": {
        "id": "yWlnEs0-yyiT",
        "colab": {
          "base_uri": "https://localhost:8080/",
          "height": 34
        },
        "outputId": "cc15f638-e7be-4d11-c7c8-55b423d4ca59"
      },
      "outputs": [
        {
          "output_type": "execute_result",
          "data": {
            "text/plain": [
              "'CC1=CC=CC=C1cccccccccccccccccccccccccccccccccccccccccccccccccccccccccccccccccccccccccccccccccccccccc'"
            ],
            "application/vnd.google.colaboratory.intrinsic+json": {
              "type": "string"
            }
          },
          "metadata": {},
          "execution_count": 31
        }
      ],
      "source": [
        "make_prediction('CC1=CC=CC=C1', mapper, model)"
      ]
    },
    {
      "cell_type": "markdown",
      "metadata": {
        "id": "AyZcbVC4yyiU"
      },
      "source": [
        "Make a model checkpoint so that the model is saved after each epoch\n",
        "if you train on a plateform and it stops you do not lose your training"
      ]
    },
    {
      "cell_type": "code",
      "execution_count": 32,
      "metadata": {
        "id": "hhOqrs9NyyiV",
        "colab": {
          "base_uri": "https://localhost:8080/"
        },
        "outputId": "7baf6695-a2ef-417c-b706-a4daaae6023d"
      },
      "outputs": [
        {
          "output_type": "stream",
          "name": "stderr",
          "text": [
            "/usr/local/lib/python3.10/dist-packages/keras/src/engine/training.py:3000: UserWarning: You are saving your model as an HDF5 file via `model.save()`. This file format is considered legacy. We recommend using instead the native Keras format, e.g. `model.save('my_model.keras')`.\n",
            "  saving_api.save_model(\n"
          ]
        }
      ],
      "source": [
        "model.save('overfitted_model.h5')"
      ]
    },
    {
      "cell_type": "markdown",
      "metadata": {
        "id": "chEa4hmZyyiV"
      },
      "source": [
        "Now go to your favorite plateform (colab or something else) and train the dataset on the whole data for 10 epochs and batch size 256\n",
        "\n",
        "it should take a long time so either follow the class or go take a nap"
      ]
    },
    {
      "cell_type": "code",
      "execution_count": 33,
      "metadata": {
        "id": "-iyk8BvZyyiW",
        "colab": {
          "base_uri": "https://localhost:8080/"
        },
        "outputId": "a24c62bd-2efc-46cd-dd5f-2cfc1596aa5a"
      },
      "outputs": [
        {
          "output_type": "stream",
          "name": "stdout",
          "text": [
            "Epoch 1/10\n",
            "51/51 [==============================] - 31s 612ms/step - loss: 3.6405 - val_loss: 2.8948\n",
            "Epoch 2/10\n",
            "51/51 [==============================] - 30s 590ms/step - loss: 2.8367 - val_loss: 2.8849\n",
            "Epoch 3/10\n",
            "51/51 [==============================] - 31s 610ms/step - loss: 2.8327 - val_loss: 2.8915\n",
            "Epoch 4/10\n",
            "51/51 [==============================] - 31s 616ms/step - loss: 2.8312 - val_loss: 2.8893\n",
            "Epoch 5/10\n",
            "51/51 [==============================] - 30s 588ms/step - loss: 2.8273 - val_loss: 2.8949\n",
            "Epoch 6/10\n",
            "51/51 [==============================] - 30s 590ms/step - loss: 2.8176 - val_loss: 2.8877\n",
            "Epoch 7/10\n",
            "51/51 [==============================] - 31s 613ms/step - loss: 2.7813 - val_loss: 2.8283\n",
            "Epoch 8/10\n",
            "51/51 [==============================] - 30s 588ms/step - loss: 2.6867 - val_loss: 2.7185\n",
            "Epoch 9/10\n",
            "51/51 [==============================] - 30s 586ms/step - loss: 2.5542 - val_loss: 2.5701\n",
            "Epoch 10/10\n",
            "51/51 [==============================] - 31s 615ms/step - loss: 2.3464 - val_loss: 2.3892\n"
          ]
        },
        {
          "output_type": "execute_result",
          "data": {
            "text/plain": [
              "<keras.src.callbacks.History at 0x7d4a24acf670>"
            ]
          },
          "metadata": {},
          "execution_count": 33
        }
      ],
      "source": [
        "# First clear the model\n",
        "model.reset_states()\n",
        "model.fit(X_train_normalized, y_train, epochs=10, batch_size=256, validation_split=0.2)"
      ]
    },
    {
      "cell_type": "markdown",
      "metadata": {
        "id": "QGzxqv3hyyiX"
      },
      "source": [
        "Generate between 100 and 1000 molecules.\n",
        "\n",
        "create a list where molecules have between 10 and 50 atoms"
      ]
    },
    {
      "cell_type": "code",
      "execution_count": null,
      "metadata": {
        "id": "9E9fhvHQyyiY",
        "outputId": "29b921bd-add4-4dcb-bdc1-9138b8f623d9"
      },
      "outputs": [
        {
          "data": {
            "text/plain": [
              "array(['COC(=C(C#N)CC1\\n', 'CCN[C@H](c2ccccc2)CC1\\n',\n",
              "       'C[C@@H]([C@@H](C)C1\\n', 'CCOc1ccc(NC(=O)c2ccc(Cl)cc2)CC1\\n',\n",
              "       'COc1cccc(OC(=O)c2ccc(Cl)cc2)CC1\\n', 'CC(C)CN(C(C(C)CC1\\n',\n",
              "       'C[C@@H]1CCC[C@@H](C)C1\\n', 'CCc1c(C(=O)N2CCCCCC2)c1\\n',\n",
              "       'Cc1cc(N)nc(CONC2](C)CC2)cc1\\n', 'Cc1cccc(-c2ccccc2)CC1\\n',\n",
              "       'O=C(N1CCc2ccccc2C(=O)Nc1ccc(Cl)cc1\\n',\n",
              "       'Cc1nc(CNC(=O)NC(=O)c1ccc(Cl)cc1\\n',\n",
              "       'CCn1cc(C(=O)Nc2ccc(Cl)cc2)CC1\\n', 'COc1cc([C@@H](C)C1\\n',\n",
              "       'COc1ccc(C(=O)Nc2ccc(Cl)cc2)CC1\\n',\n",
              "       'Cc1cccn2c(=O)c(C(c(=O)n(C)c(=O)n(C)c(=O)n(C)c(=O)n',\n",
              "       'Cn1cc(C(=O)Nc2ccc(Cl)cc2)CC1\\n', 'CN(C[C@@H](C)C1\\n',\n",
              "       'Clc1ccc([C@@H](C)C1\\n', 'CS(=O)(=O)c1ccc(Cl)cc1\\n',\n",
              "       'COc1cc([N+](=O)[O-])c2)CCCC1\\n', 'O=C(C1CCCCC1\\n',\n",
              "       'C[C@@H]1CCC[C@@H](C)C1\\n', 'O[C@H]1CCC[C@@H](C)C1\\n',\n",
              "       'CCN1CCC(=N)CC1CC2)CC1\\n',\n",
              "       'CCCc1cc(=O)n(C(c(=O)n(C)c(=O)n(C)c(=O)n(C)c(=O)n(C',\n",
              "       'C[C@H](CC#=O)NCc2ccccc1NC(=O)[C@@H](C)C1\\n',\n",
              "       'CCOC(=O)c1ccc(Cl)cc1\\n', 'CC(C)CC(=O)N1CCCCCC2\\n',\n",
              "       'CC[C@H](C)C(=O)Nc1ccc(Cl)cc1\\n', 'CCOC(=O)[C@H]1CCC[C@@H](C)C1\\n',\n",
              "       'N#Cc1cccc(Cl)c1)C(=O)N1CCCCCC2\\n', 'Cc1ccccc1NC(=O)[C@@H](C)C1\\n',\n",
              "       'C[C@@H](NC(=O)CCc2ccccc2C(=O)Nc1ccc(Cl)cc1\\n',\n",
              "       'COc1ccc([C@@H](C)C1\\n', 'COC[C@H](OC(=O)c1ccc(Cl)cc1\\n',\n",
              "       'CC(C)c1ccc(Cl)cc1\\n', 'CC[NH2+][C@@H](C)c1ccc(Cl)cc1\\n',\n",
              "       'COC1CC[NH+](Cc2ccc(Cl)cc2)CC1\\n', 'COc1cc(C)c(C(c2)c1\\n',\n",
              "       'C[NH+](C)CC2)cc1\\n', 'CCc1ccc(N(cc1\\n',\n",
              "       'Cc1ccc(/C=C/\\\\Cc1ccccc1NC(=O)[C@@H](C)C1\\n',\n",
              "       'COc1ccc(NC(=O)c2ccc(Cl)cc2)CC1\\n', 'CCCc1cc(C(c(C(c2)c1\\n',\n",
              "       'CC[C@@H](NC(=O)CCc2ccccc2C(=O)Nc1ccc(Cl)cc1\\n',\n",
              "       'Cn1nc(CNC(=O)NC(=O)c1ccc(Cl)cc1\\n',\n",
              "       'Cc1ccccc1NC(=O)[C@@H](C)C1\\n', 'Cc1cc(C)cc(C)c1CCCCC1\\n',\n",
              "       'O=C(N[C@H](C)c1ccc(Cl)cc1\\n', 'COCCN1[C@@H](C)C1\\n',\n",
              "       'C#CCN(C[C@@H](C)C1\\n', 'C[C@H]1CCC[C@@H](C)C1\\n',\n",
              "       'CC(C)CN(CC)C)C)NC(=O)c1ccc(Cl)cc1\\n',\n",
              "       'CC(=O)N[C@@H](C)c1ccc(Cl)cc1\\n',\n",
              "       'Cc1ccc(S(=O)(=O)NCCCO)C(=O)c2ccc(Cl)cc2)CC1\\n', 'CCc1noc(C)c1\\n',\n",
              "       'CC1(C)[C@@H]1CCC[C@@H](C)C1\\n', 'C[C@@H]1CN(Cc2ccccc2)CC1\\n',\n",
              "       'CCN(CC)C(=O)c1ccc(Cl)cc1\\n', 'CC[C@@H](C)C1\\n',\n",
              "       'CCSc1nc2ccccc2c1\\n', 'Cc1ccccc1OC(=O)[C@@H](C)C1\\n',\n",
              "       'COc1ccc(N2CC[C@H](C(C(=O)Nc1ccc(Cl)cc1\\n',\n",
              "       'O=[N+]([O-])c1)CCC2\\n', 'COc1ccc([C@@H](C)C1\\n',\n",
              "       'O=S(=O)(NCC(=O)NC(=O)c1ccc(Cl)cc1\\n', 'Cc1ccc(-n2ccccc2)C1\\n',\n",
              "       'CO[C@H](c1ccccc1OC(=O)[C@@H](C)C1\\n', 'Cc1nn(C)cc1C\\n',\n",
              "       'Cc1ccc(F)cc1C\\n', 'Cc1cccc(C)c1\\n', 'CN(CC[NH+](C)CC2)cc1\\n',\n",
              "       'C[C@@H](c1ccccc1OC(=O)[C@@H](C)C1\\n',\n",
              "       'Cc1ccc(C(=O)Nc2ccc(Cl)cc2)CC1\\n', 'NC(=O)COc1ccc(Cl)cc1\\n',\n",
              "       'COC(=O)[C@H]1CCC[C@@H](C)C1\\n', 'O=C(CSc1ccc(Cl)cc1\\n',\n",
              "       'CN(C)c1nc2c(cc1OC(=O)[C@@H](C)C1\\n',\n",
              "       'Cn1nc(NC(=O)CCc2ccccc2C(=O)Nc1ccc(Cl)cc1\\n',\n",
              "       'O=C(COc1ccc(Cl)cc1\\n', 'CCn1nc(C)c(C(c2)c1\\n',\n",
              "       'N#C/C(C(=O)NCCC(=O)Nc1ccc(Cl)cc1\\n',\n",
              "       'C=CCn1c(S[C@H](C)c2ccccc2)CC1\\n', 'C[C@@H](O)c1ccc(Cl)cc1\\n',\n",
              "       'CCOC(=O)[C@H]1CCC[C@@H](C)C1\\n', 'COc1ccc(OC)c(OC)c1\\n',\n",
              "       'C/[NH+]=C(/NCc1ccc(Cl)cc1\\n',\n",
              "       'COc1ccc(C)=O)NCCC(=O)Nc1ccc(Cl)cc1\\n', 'CC1(C)CCC(C)(C)C)c1\\n',\n",
              "       'CCOc1ccc2c(c1)OCOC@H](C)c1ccc(Cl)cc1\\n', 'COc1ccc([C@@H](C)C1\\n',\n",
              "       'Cc1ccc2c(c1)OCOC@H](C)c1ccc(Cl)cc1\\n',\n",
              "       'CCC(=O)NN/C(=O)c1ccc(Cl)cc1\\n',\n",
              "       'CC[C@H](NC(=O)CCc2ccccc2C(=O)Nc1ccc(Cl)cc1\\n',\n",
              "       'O=C(c1ccccc1OC(=O)[C@@H](C)C1\\n', 'COc1ccccc1NC(=O)[C@@H](C)C1\\n',\n",
              "       'C=CCn1c(SC(ccc1Cl\\n', 'CC(=O)N[C@@H](C)c1ccc(Cl)cc1\\n',\n",
              "       'CCC[C@@H]1CCC[C@@H](C)C1\\n'], dtype='<U50')"
            ]
          },
          "execution_count": 92,
          "metadata": {},
          "output_type": "execute_result"
        }
      ],
      "source": [
        "prefixes = df['smiles'].str[:SEQUENCE_LENGTH].sample(100)\n",
        "np.vectorize(make_prediction, excluded=(1, 2))(prefixes, mapper, model, max_len=50)"
      ]
    },
    {
      "cell_type": "code",
      "execution_count": null,
      "metadata": {
        "id": "aUN_Xc_RPPqb"
      },
      "outputs": [],
      "source": [
        "prefixes = df['smiles'].sample(1000)"
      ]
    },
    {
      "cell_type": "markdown",
      "metadata": {
        "id": "eQwmMBBnyyiY"
      },
      "source": [
        "With rdkit compute the Quantified Estimated Drug likelyness (QED) of each molecule in this subset"
      ]
    },
    {
      "cell_type": "markdown",
      "metadata": {
        "id": "9En9mvfOyyiZ"
      },
      "source": [
        "Bonus 1 : Using rdkit, compute the quantitative estimation of drug-likeness (QED) of your generated molecules."
      ]
    },
    {
      "cell_type": "code",
      "execution_count": null,
      "metadata": {
        "id": "xEVMckghyyia",
        "outputId": "5e9df2a7-0c8a-43e5-b644-28168dfe90da"
      },
      "outputs": [
        {
          "data": {
            "text/plain": [
              "'COC1CC[NH+](Cn2nc(-c3ccc(C)cc3)n(C)c2=S)CC1\\n\\n\\n\\n\\n\\n\\n\\n\\n\\n\\n\\n\\n\\n\\n\\n\\n\\n\\n\\n\\n\\n\\n\\n\\n\\n\\n\\n\\n\\n\\n\\n\\n\\n\\n\\n\\n\\n\\n\\n\\n\\n\\n\\n\\n\\n\\n\\n\\n\\n\\n\\n\\n\\n\\n\\n\\n\\n\\n\\n\\n\\n\\n'"
            ]
          },
          "execution_count": 77,
          "metadata": {},
          "output_type": "execute_result"
        }
      ],
      "source": [
        "prefixes.iloc[0]"
      ]
    },
    {
      "cell_type": "markdown",
      "metadata": {
        "id": "PtCbYnIuyyib"
      },
      "source": [
        "Bonus 2 : try to adapt a transformer model training from hugging face to see if it is better"
      ]
    },
    {
      "cell_type": "code",
      "execution_count": null,
      "metadata": {
        "id": "SnMy9_I1yyib"
      },
      "outputs": [],
      "source": []
    }
  ],
  "metadata": {
    "colab": {
      "provenance": []
    },
    "kernelspec": {
      "display_name": "Python 3 (ipykernel)",
      "language": "python",
      "name": "python3"
    },
    "language_info": {
      "codemirror_mode": {
        "name": "ipython",
        "version": 3
      },
      "file_extension": ".py",
      "mimetype": "text/x-python",
      "name": "python",
      "nbconvert_exporter": "python",
      "pygments_lexer": "ipython3",
      "version": "3.11.2"
    }
  },
  "nbformat": 4,
  "nbformat_minor": 0
}